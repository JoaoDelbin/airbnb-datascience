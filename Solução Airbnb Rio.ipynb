{
 "cells": [
  {
   "cell_type": "markdown",
   "metadata": {},
   "source": [
    "# Projeto Airbnb Rio - Ferramenta de Previsão de Preço de Imóvel para pessoas comuns "
   ]
  },
  {
   "cell_type": "markdown",
   "metadata": {},
   "source": [
    "### Contexto\n",
    "\n",
    "No Airbnb, qualquer pessoa que tenha um quarto ou um imóvel de qualquer tipo (apartamento, casa, chalé, pousada, etc.) pode ofertar o seu imóvel para ser alugado por diária.\n",
    "\n",
    "Você cria o seu perfil de host (pessoa que disponibiliza um imóvel para aluguel por diária) e cria o anúncio do seu imóvel.\n",
    "\n",
    "Nesse anúncio, o host deve descrever as características do imóvel da forma mais completa possível, de forma a ajudar os locadores/viajantes a escolherem o melhor imóvel para eles (e de forma a tornar o seu anúncio mais atrativo)\n",
    "\n",
    "Existem dezenas de personalizações possíveis no seu anúncio, desde quantidade mínima de diária, preço, quantidade de quartos, até regras de cancelamento, taxa extra para hóspedes extras, exigência de verificação de identidade do locador, etc.\n",
    "\n",
    "### Nosso objetivo\n",
    "\n",
    "Construir um modelo de previsão de preço que permita uma pessoa comum que possui um imóvel possa saber quanto deve cobrar pela diária do seu imóvel.\n",
    "\n",
    "Ou ainda, para o locador comum, dado o imóvel que ele está buscando, ajudar a saber se aquele imóvel está com preço atrativo (abaixo da média para imóveis com as mesmas características) ou não.\n",
    "\n",
    "### O que temos disponível, inspirações e créditos\n",
    "\n",
    "As bases de dados foram retiradas do site kaggle: https://www.kaggle.com/allanbruno/airbnb-rio-de-janeiro\n",
    "\n",
    "Elas estão disponíveis para download abaixo da aula (se você puxar os dados direto do Kaggle pode ser que encontre resultados diferentes dos meus, afinal as bases de dados podem ter sido atualizadas).\n",
    "\n",
    "Caso queira uma outra solução, podemos olhar como referência a solução do usuário Allan Bruno do kaggle no Notebook: https://www.kaggle.com/allanbruno/helping-regular-people-price-listings-on-airbnb\n",
    "\n",
    "Você vai perceber semelhanças entre a solução que vamos desenvolver aqui e a dele, mas também algumas diferenças significativas no processo de construção do projeto.\n",
    "\n",
    "- As bases de dados são os preços dos imóveis obtidos e suas respectivas características em cada mês.\n",
    "- Os preços são dados em reais (R$)\n",
    "- Temos bases de abril de 2018 a maio de 2020, com exceção de junho de 2018 que não possui base de dados\n",
    "\n",
    "### Expectativas Iniciais\n",
    "\n",
    "- Acredito que a sazonalidade pode ser um fator importante, visto que meses como dezembro costumam ser bem caros no RJ\n",
    "- A localização do imóvel deve fazer muita diferença no preço, já que no Rio de Janeiro a localização pode mudar completamente as características do lugar (segurança, beleza natural, pontos turísticos)\n",
    "- Adicionais/Comodidades podem ter um impacto significativo, visto que temos muitos prédios e casas antigos no Rio de Janeiro\n",
    "\n",
    "Vamos descobrir o quanto esses fatores impactam e se temos outros fatores não tão intuitivos que são extremamente importantes."
   ]
  },
  {
   "cell_type": "code",
   "execution_count": 5,
   "metadata": {},
   "outputs": [
    {
     "name": "stdout",
     "output_type": "stream",
     "text": [
      "Requirement already satisfied: plotly in c:\\programdata\\anaconda3\\lib\\site-packages (5.18.0)\n",
      "Requirement already satisfied: packaging in c:\\programdata\\anaconda3\\lib\\site-packages (from plotly) (19.2)\n",
      "Requirement already satisfied: tenacity>=6.2.0 in c:\\programdata\\anaconda3\\lib\\site-packages (from plotly) (8.2.3)\n",
      "Requirement already satisfied: six in c:\\programdata\\anaconda3\\lib\\site-packages (from packaging->plotly) (1.12.0)\n",
      "Requirement already satisfied: pyparsing>=2.0.2 in c:\\programdata\\anaconda3\\lib\\site-packages (from packaging->plotly) (2.4.2)\n"
     ]
    }
   ],
   "source": [
    "!pip install plotly"
   ]
  },
  {
   "cell_type": "markdown",
   "metadata": {},
   "source": [
    "### Importar Bibliotecas e Bases de Dados"
   ]
  },
  {
   "cell_type": "code",
   "execution_count": 6,
   "metadata": {},
   "outputs": [],
   "source": [
    "import pandas as pd\n",
    "import pathlib\n",
    "import numpy as np\n",
    "import seaborn as sns\n",
    "import matplotlib.pyplot as plt\n",
    "import plotly.express as px \n",
    "\n",
    "#machine learning\n",
    "\n",
    "from sklearn.metrics import r2_score, mean_squared_error\n",
    "from sklearn.linear_model import LinearRegression\n",
    "from sklearn.ensemble import RandomForestRegressor, ExtraTreesRegressor\n",
    "from sklearn.model_selection import train_test_split"
   ]
  },
  {
   "cell_type": "code",
   "execution_count": 7,
   "metadata": {},
   "outputs": [
    {
     "name": "stderr",
     "output_type": "stream",
     "text": [
      "C:\\ProgramData\\Anaconda3\\lib\\site-packages\\IPython\\core\\interactiveshell.py:3058: DtypeWarning: Columns (62,87) have mixed types. Specify dtype option on import or set low_memory=False.\n",
      "  interactivity=interactivity, compiler=compiler, result=result)\n",
      "C:\\ProgramData\\Anaconda3\\lib\\site-packages\\IPython\\core\\interactiveshell.py:3058: DtypeWarning: Columns (61,62,94) have mixed types. Specify dtype option on import or set low_memory=False.\n",
      "  interactivity=interactivity, compiler=compiler, result=result)\n",
      "C:\\ProgramData\\Anaconda3\\lib\\site-packages\\pandas\\core\\frame.py:7123: FutureWarning: Sorting because non-concatenation axis is not aligned. A future version\n",
      "of pandas will change to not sort by default.\n",
      "\n",
      "To accept the future behavior, pass 'sort=False'.\n",
      "\n",
      "To retain the current behavior and silence the warning, pass 'sort=True'.\n",
      "\n",
      "  sort=sort,\n",
      "C:\\ProgramData\\Anaconda3\\lib\\site-packages\\IPython\\core\\interactiveshell.py:3058: DtypeWarning: Columns (87) have mixed types. Specify dtype option on import or set low_memory=False.\n",
      "  interactivity=interactivity, compiler=compiler, result=result)\n"
     ]
    }
   ],
   "source": [
    "meses = {'jan': 1, 'fev': 2, 'mar': 3, 'abr': 4, 'mai': 5, 'jun': 6, 'jul': 7, 'ago': 8, 'set': 9,'out': 10, 'nov': 11 , 'dez': 12}\n",
    "\n",
    "caminho_bases = pathlib.Path('dataset')\n",
    "\n",
    "base_airbnb = pd.DataFrame()\n",
    "\n",
    "for arquivo in caminho_bases.iterdir():\n",
    "    \n",
    "    nome_mes = arquivo.name[:3]\n",
    "    \n",
    "    mes = meses[nome_mes]\n",
    "    \n",
    "    ano = arquivo.name[-8:]\n",
    "    ano = int(ano.replace('.csv', ''))\n",
    "    \n",
    "    df = pd.read_csv(caminho_bases / arquivo.name)\n",
    "    df['ano'] = ano\n",
    "    df['mes'] = mes\n",
    "    base_airbnb = base_airbnb.append(df)\n"
   ]
  },
  {
   "cell_type": "code",
   "execution_count": 8,
   "metadata": {},
   "outputs": [
    {
     "data": {
      "text/html": [
       "<div>\n",
       "<style scoped>\n",
       "    .dataframe tbody tr th:only-of-type {\n",
       "        vertical-align: middle;\n",
       "    }\n",
       "\n",
       "    .dataframe tbody tr th {\n",
       "        vertical-align: top;\n",
       "    }\n",
       "\n",
       "    .dataframe thead th {\n",
       "        text-align: right;\n",
       "    }\n",
       "</style>\n",
       "<table border=\"1\" class=\"dataframe\">\n",
       "  <thead>\n",
       "    <tr style=\"text-align: right;\">\n",
       "      <th></th>\n",
       "      <th>access</th>\n",
       "      <th>accommodates</th>\n",
       "      <th>amenities</th>\n",
       "      <th>ano</th>\n",
       "      <th>availability_30</th>\n",
       "      <th>availability_365</th>\n",
       "      <th>availability_60</th>\n",
       "      <th>availability_90</th>\n",
       "      <th>bathrooms</th>\n",
       "      <th>bed_type</th>\n",
       "      <th>...</th>\n",
       "      <th>space</th>\n",
       "      <th>square_feet</th>\n",
       "      <th>state</th>\n",
       "      <th>street</th>\n",
       "      <th>summary</th>\n",
       "      <th>thumbnail_url</th>\n",
       "      <th>transit</th>\n",
       "      <th>weekly_price</th>\n",
       "      <th>xl_picture_url</th>\n",
       "      <th>zipcode</th>\n",
       "    </tr>\n",
       "  </thead>\n",
       "  <tbody>\n",
       "    <tr>\n",
       "      <td>0</td>\n",
       "      <td>NaN</td>\n",
       "      <td>4</td>\n",
       "      <td>{TV,Internet,\"Air conditioning\",Kitchen,Doorma...</td>\n",
       "      <td>2018</td>\n",
       "      <td>28</td>\n",
       "      <td>363</td>\n",
       "      <td>58</td>\n",
       "      <td>88</td>\n",
       "      <td>1.0</td>\n",
       "      <td>Real Bed</td>\n",
       "      <td>...</td>\n",
       "      <td>NaN</td>\n",
       "      <td>NaN</td>\n",
       "      <td>RJ</td>\n",
       "      <td>Rio de Janeiro, RJ, Brazil</td>\n",
       "      <td>Besides the most iconic's view, our apartment ...</td>\n",
       "      <td>NaN</td>\n",
       "      <td>Everything is there. METRO is 5 min walk.  Dir...</td>\n",
       "      <td>$823.00</td>\n",
       "      <td>NaN</td>\n",
       "      <td>22250-040</td>\n",
       "    </tr>\n",
       "    <tr>\n",
       "      <td>1</td>\n",
       "      <td>The entire apartment is yours. It is a vacatio...</td>\n",
       "      <td>5</td>\n",
       "      <td>{TV,\"Cable TV\",Internet,Wifi,\"Air conditioning...</td>\n",
       "      <td>2018</td>\n",
       "      <td>11</td>\n",
       "      <td>286</td>\n",
       "      <td>29</td>\n",
       "      <td>58</td>\n",
       "      <td>1.0</td>\n",
       "      <td>Real Bed</td>\n",
       "      <td>...</td>\n",
       "      <td>- large balcony which looks out on pedestrian ...</td>\n",
       "      <td>NaN</td>\n",
       "      <td>Rio de Janeiro</td>\n",
       "      <td>Rio de Janeiro, Rio de Janeiro, Brazil</td>\n",
       "      <td>Please note that special rates apply for New Y...</td>\n",
       "      <td>NaN</td>\n",
       "      <td>Excellent location. Close to all major public ...</td>\n",
       "      <td>NaN</td>\n",
       "      <td>NaN</td>\n",
       "      <td>22020-050</td>\n",
       "    </tr>\n",
       "    <tr>\n",
       "      <td>2</td>\n",
       "      <td>From the International airport, take a  regula...</td>\n",
       "      <td>2</td>\n",
       "      <td>{TV,\"Cable TV\",Wifi,\"Air conditioning\",\"First ...</td>\n",
       "      <td>2018</td>\n",
       "      <td>0</td>\n",
       "      <td>0</td>\n",
       "      <td>0</td>\n",
       "      <td>0</td>\n",
       "      <td>1.0</td>\n",
       "      <td>Real Bed</td>\n",
       "      <td>...</td>\n",
       "      <td>The studio is located at Vinicius de Moraes St...</td>\n",
       "      <td>NaN</td>\n",
       "      <td>Rio de Janeiro</td>\n",
       "      <td>Rio de Janeiro, Rio de Janeiro, Brazil</td>\n",
       "      <td>My studio is located in the best  of Ipanema. ...</td>\n",
       "      <td>NaN</td>\n",
       "      <td>NaN</td>\n",
       "      <td>NaN</td>\n",
       "      <td>NaN</td>\n",
       "      <td>22411-010</td>\n",
       "    </tr>\n",
       "    <tr>\n",
       "      <td>3</td>\n",
       "      <td>internet wi-fi, cable tv, air cond, ceiling fa...</td>\n",
       "      <td>3</td>\n",
       "      <td>{TV,\"Cable TV\",Internet,Wifi,\"Air conditioning...</td>\n",
       "      <td>2018</td>\n",
       "      <td>28</td>\n",
       "      <td>363</td>\n",
       "      <td>58</td>\n",
       "      <td>88</td>\n",
       "      <td>1.0</td>\n",
       "      <td>Real Bed</td>\n",
       "      <td>...</td>\n",
       "      <td>This newly renovated studio (last renovations ...</td>\n",
       "      <td>NaN</td>\n",
       "      <td>Rio de Janeiro</td>\n",
       "      <td>Rio de Janeiro, Rio de Janeiro, Brazil</td>\n",
       "      <td>Our apartment is a little gem, everyone loves ...</td>\n",
       "      <td>NaN</td>\n",
       "      <td>At night we recommend you to take taxis only. ...</td>\n",
       "      <td>NaN</td>\n",
       "      <td>NaN</td>\n",
       "      <td>22060-020</td>\n",
       "    </tr>\n",
       "    <tr>\n",
       "      <td>4</td>\n",
       "      <td>Die Urlauber dürfen das Badezimmer benutzen, d...</td>\n",
       "      <td>3</td>\n",
       "      <td>{TV,\"Cable TV\",Internet,Wifi,\"Air conditioning...</td>\n",
       "      <td>2018</td>\n",
       "      <td>15</td>\n",
       "      <td>345</td>\n",
       "      <td>45</td>\n",
       "      <td>75</td>\n",
       "      <td>1.0</td>\n",
       "      <td>Real Bed</td>\n",
       "      <td>...</td>\n",
       "      <td>This nice and clean 1 bedroom apartment is loc...</td>\n",
       "      <td>NaN</td>\n",
       "      <td>RJ</td>\n",
       "      <td>Rio de Janeiro, RJ, Brazil</td>\n",
       "      <td>This nice and clean 1 bedroom apartment is loc...</td>\n",
       "      <td>NaN</td>\n",
       "      <td>Bus, U-Bahn, Taxi und Leihfahrräder in der Nähe.</td>\n",
       "      <td>NaN</td>\n",
       "      <td>NaN</td>\n",
       "      <td>22410-003</td>\n",
       "    </tr>\n",
       "    <tr>\n",
       "      <td>...</td>\n",
       "      <td>...</td>\n",
       "      <td>...</td>\n",
       "      <td>...</td>\n",
       "      <td>...</td>\n",
       "      <td>...</td>\n",
       "      <td>...</td>\n",
       "      <td>...</td>\n",
       "      <td>...</td>\n",
       "      <td>...</td>\n",
       "      <td>...</td>\n",
       "      <td>...</td>\n",
       "      <td>...</td>\n",
       "      <td>...</td>\n",
       "      <td>...</td>\n",
       "      <td>...</td>\n",
       "      <td>...</td>\n",
       "      <td>...</td>\n",
       "      <td>...</td>\n",
       "      <td>...</td>\n",
       "      <td>...</td>\n",
       "      <td>...</td>\n",
       "    </tr>\n",
       "    <tr>\n",
       "      <td>34324</td>\n",
       "      <td>NaN</td>\n",
       "      <td>4</td>\n",
       "      <td>{TV,Wifi,\"Air conditioning\",Pool,Kitchen,\"Free...</td>\n",
       "      <td>2019</td>\n",
       "      <td>16</td>\n",
       "      <td>351</td>\n",
       "      <td>46</td>\n",
       "      <td>76</td>\n",
       "      <td>1.0</td>\n",
       "      <td>Real Bed</td>\n",
       "      <td>...</td>\n",
       "      <td>NaN</td>\n",
       "      <td>NaN</td>\n",
       "      <td>Rio de Janeiro</td>\n",
       "      <td>Barra da Tijuca, Rio de Janeiro, Brazil</td>\n",
       "      <td>Em estilo contemporâneo, o Transamerica Prime ...</td>\n",
       "      <td>NaN</td>\n",
       "      <td>NaN</td>\n",
       "      <td>NaN</td>\n",
       "      <td>NaN</td>\n",
       "      <td>22631</td>\n",
       "    </tr>\n",
       "    <tr>\n",
       "      <td>34325</td>\n",
       "      <td>Ao alugar o inquilino de temporada desfrutará ...</td>\n",
       "      <td>4</td>\n",
       "      <td>{TV,Wifi,\"Air conditioning\",Pool,Kitchen,\"Free...</td>\n",
       "      <td>2019</td>\n",
       "      <td>23</td>\n",
       "      <td>83</td>\n",
       "      <td>53</td>\n",
       "      <td>83</td>\n",
       "      <td>2.0</td>\n",
       "      <td>Real Bed</td>\n",
       "      <td>...</td>\n",
       "      <td>O apartamento estará com mobília completa disp...</td>\n",
       "      <td>NaN</td>\n",
       "      <td>Rio de Janeiro</td>\n",
       "      <td>Jacarepaguá, Rio de Janeiro, Brazil</td>\n",
       "      <td>Confortável apartamento, 2 quartos , sendo 1 s...</td>\n",
       "      <td>NaN</td>\n",
       "      <td>Próximo ao BRT; ônibus gratuito para shoppings...</td>\n",
       "      <td>NaN</td>\n",
       "      <td>NaN</td>\n",
       "      <td>22775-150</td>\n",
       "    </tr>\n",
       "    <tr>\n",
       "      <td>34326</td>\n",
       "      <td>Internet wi-fi. Possibilidade para fazer check...</td>\n",
       "      <td>5</td>\n",
       "      <td>{TV,Wifi,\"Air conditioning\",Kitchen,Elevator,W...</td>\n",
       "      <td>2019</td>\n",
       "      <td>30</td>\n",
       "      <td>365</td>\n",
       "      <td>60</td>\n",
       "      <td>90</td>\n",
       "      <td>1.0</td>\n",
       "      <td>Real Bed</td>\n",
       "      <td>...</td>\n",
       "      <td>Espaço ideal para até 5 pessoas. Cama de casal...</td>\n",
       "      <td>NaN</td>\n",
       "      <td>Rio de Janeiro</td>\n",
       "      <td>Copacabana, Rio de Janeiro, Brazil</td>\n",
       "      <td>Apartamento quarto e sala COMPLETO para curtas...</td>\n",
       "      <td>NaN</td>\n",
       "      <td>Estação de Metrô Arco Verde se encontra a 300 ...</td>\n",
       "      <td>NaN</td>\n",
       "      <td>NaN</td>\n",
       "      <td>22011-040</td>\n",
       "    </tr>\n",
       "    <tr>\n",
       "      <td>34327</td>\n",
       "      <td>NaN</td>\n",
       "      <td>4</td>\n",
       "      <td>{TV,Wifi,\"Air conditioning\",Pool,Kitchen,\"Free...</td>\n",
       "      <td>2019</td>\n",
       "      <td>17</td>\n",
       "      <td>77</td>\n",
       "      <td>47</td>\n",
       "      <td>77</td>\n",
       "      <td>1.0</td>\n",
       "      <td>Real Bed</td>\n",
       "      <td>...</td>\n",
       "      <td>NaN</td>\n",
       "      <td>NaN</td>\n",
       "      <td>Rio de Janeiro</td>\n",
       "      <td>Barra da Tijuca, Rio de Janeiro, Brazil</td>\n",
       "      <td>Cobertura alto nivel</td>\n",
       "      <td>NaN</td>\n",
       "      <td>NaN</td>\n",
       "      <td>NaN</td>\n",
       "      <td>NaN</td>\n",
       "      <td>22631-280</td>\n",
       "    </tr>\n",
       "    <tr>\n",
       "      <td>34328</td>\n",
       "      <td>NaN</td>\n",
       "      <td>2</td>\n",
       "      <td>{TV,Kitchen,\"Free parking on premises\",\"Smokin...</td>\n",
       "      <td>2019</td>\n",
       "      <td>27</td>\n",
       "      <td>177</td>\n",
       "      <td>57</td>\n",
       "      <td>87</td>\n",
       "      <td>0.0</td>\n",
       "      <td>Real Bed</td>\n",
       "      <td>...</td>\n",
       "      <td>NaN</td>\n",
       "      <td>NaN</td>\n",
       "      <td>Rio de Janeiro</td>\n",
       "      <td>Barra da Tijuca, Rio de Janeiro, Brazil</td>\n",
       "      <td>Quarto em cobertura quadriplex com vista lindí...</td>\n",
       "      <td>NaN</td>\n",
       "      <td>NaN</td>\n",
       "      <td>NaN</td>\n",
       "      <td>NaN</td>\n",
       "      <td>22630-013</td>\n",
       "    </tr>\n",
       "  </tbody>\n",
       "</table>\n",
       "<p>902210 rows × 108 columns</p>\n",
       "</div>"
      ],
      "text/plain": [
       "                                                  access  accommodates  \\\n",
       "0                                                    NaN             4   \n",
       "1      The entire apartment is yours. It is a vacatio...             5   \n",
       "2      From the International airport, take a  regula...             2   \n",
       "3      internet wi-fi, cable tv, air cond, ceiling fa...             3   \n",
       "4      Die Urlauber dürfen das Badezimmer benutzen, d...             3   \n",
       "...                                                  ...           ...   \n",
       "34324                                                NaN             4   \n",
       "34325  Ao alugar o inquilino de temporada desfrutará ...             4   \n",
       "34326  Internet wi-fi. Possibilidade para fazer check...             5   \n",
       "34327                                                NaN             4   \n",
       "34328                                                NaN             2   \n",
       "\n",
       "                                               amenities   ano  \\\n",
       "0      {TV,Internet,\"Air conditioning\",Kitchen,Doorma...  2018   \n",
       "1      {TV,\"Cable TV\",Internet,Wifi,\"Air conditioning...  2018   \n",
       "2      {TV,\"Cable TV\",Wifi,\"Air conditioning\",\"First ...  2018   \n",
       "3      {TV,\"Cable TV\",Internet,Wifi,\"Air conditioning...  2018   \n",
       "4      {TV,\"Cable TV\",Internet,Wifi,\"Air conditioning...  2018   \n",
       "...                                                  ...   ...   \n",
       "34324  {TV,Wifi,\"Air conditioning\",Pool,Kitchen,\"Free...  2019   \n",
       "34325  {TV,Wifi,\"Air conditioning\",Pool,Kitchen,\"Free...  2019   \n",
       "34326  {TV,Wifi,\"Air conditioning\",Kitchen,Elevator,W...  2019   \n",
       "34327  {TV,Wifi,\"Air conditioning\",Pool,Kitchen,\"Free...  2019   \n",
       "34328  {TV,Kitchen,\"Free parking on premises\",\"Smokin...  2019   \n",
       "\n",
       "       availability_30  availability_365  availability_60  availability_90  \\\n",
       "0                   28               363               58               88   \n",
       "1                   11               286               29               58   \n",
       "2                    0                 0                0                0   \n",
       "3                   28               363               58               88   \n",
       "4                   15               345               45               75   \n",
       "...                ...               ...              ...              ...   \n",
       "34324               16               351               46               76   \n",
       "34325               23                83               53               83   \n",
       "34326               30               365               60               90   \n",
       "34327               17                77               47               77   \n",
       "34328               27               177               57               87   \n",
       "\n",
       "       bathrooms  bed_type  ...  \\\n",
       "0            1.0  Real Bed  ...   \n",
       "1            1.0  Real Bed  ...   \n",
       "2            1.0  Real Bed  ...   \n",
       "3            1.0  Real Bed  ...   \n",
       "4            1.0  Real Bed  ...   \n",
       "...          ...       ...  ...   \n",
       "34324        1.0  Real Bed  ...   \n",
       "34325        2.0  Real Bed  ...   \n",
       "34326        1.0  Real Bed  ...   \n",
       "34327        1.0  Real Bed  ...   \n",
       "34328        0.0  Real Bed  ...   \n",
       "\n",
       "                                                   space  square_feet  \\\n",
       "0                                                    NaN          NaN   \n",
       "1      - large balcony which looks out on pedestrian ...          NaN   \n",
       "2      The studio is located at Vinicius de Moraes St...          NaN   \n",
       "3      This newly renovated studio (last renovations ...          NaN   \n",
       "4      This nice and clean 1 bedroom apartment is loc...          NaN   \n",
       "...                                                  ...          ...   \n",
       "34324                                                NaN          NaN   \n",
       "34325  O apartamento estará com mobília completa disp...          NaN   \n",
       "34326  Espaço ideal para até 5 pessoas. Cama de casal...          NaN   \n",
       "34327                                                NaN          NaN   \n",
       "34328                                                NaN          NaN   \n",
       "\n",
       "                state                                   street  \\\n",
       "0                  RJ               Rio de Janeiro, RJ, Brazil   \n",
       "1      Rio de Janeiro   Rio de Janeiro, Rio de Janeiro, Brazil   \n",
       "2      Rio de Janeiro   Rio de Janeiro, Rio de Janeiro, Brazil   \n",
       "3      Rio de Janeiro   Rio de Janeiro, Rio de Janeiro, Brazil   \n",
       "4                  RJ               Rio de Janeiro, RJ, Brazil   \n",
       "...               ...                                      ...   \n",
       "34324  Rio de Janeiro  Barra da Tijuca, Rio de Janeiro, Brazil   \n",
       "34325  Rio de Janeiro      Jacarepaguá, Rio de Janeiro, Brazil   \n",
       "34326  Rio de Janeiro       Copacabana, Rio de Janeiro, Brazil   \n",
       "34327  Rio de Janeiro  Barra da Tijuca, Rio de Janeiro, Brazil   \n",
       "34328  Rio de Janeiro  Barra da Tijuca, Rio de Janeiro, Brazil   \n",
       "\n",
       "                                                 summary  thumbnail_url  \\\n",
       "0      Besides the most iconic's view, our apartment ...            NaN   \n",
       "1      Please note that special rates apply for New Y...            NaN   \n",
       "2      My studio is located in the best  of Ipanema. ...            NaN   \n",
       "3      Our apartment is a little gem, everyone loves ...            NaN   \n",
       "4      This nice and clean 1 bedroom apartment is loc...            NaN   \n",
       "...                                                  ...            ...   \n",
       "34324  Em estilo contemporâneo, o Transamerica Prime ...            NaN   \n",
       "34325  Confortável apartamento, 2 quartos , sendo 1 s...            NaN   \n",
       "34326  Apartamento quarto e sala COMPLETO para curtas...            NaN   \n",
       "34327                               Cobertura alto nivel            NaN   \n",
       "34328  Quarto em cobertura quadriplex com vista lindí...            NaN   \n",
       "\n",
       "                                                 transit weekly_price  \\\n",
       "0      Everything is there. METRO is 5 min walk.  Dir...      $823.00   \n",
       "1      Excellent location. Close to all major public ...          NaN   \n",
       "2                                                    NaN          NaN   \n",
       "3      At night we recommend you to take taxis only. ...          NaN   \n",
       "4       Bus, U-Bahn, Taxi und Leihfahrräder in der Nähe.          NaN   \n",
       "...                                                  ...          ...   \n",
       "34324                                                NaN          NaN   \n",
       "34325  Próximo ao BRT; ônibus gratuito para shoppings...          NaN   \n",
       "34326  Estação de Metrô Arco Verde se encontra a 300 ...          NaN   \n",
       "34327                                                NaN          NaN   \n",
       "34328                                                NaN          NaN   \n",
       "\n",
       "      xl_picture_url    zipcode  \n",
       "0                NaN  22250-040  \n",
       "1                NaN  22020-050  \n",
       "2                NaN  22411-010  \n",
       "3                NaN  22060-020  \n",
       "4                NaN  22410-003  \n",
       "...              ...        ...  \n",
       "34324            NaN      22631  \n",
       "34325            NaN  22775-150  \n",
       "34326            NaN  22011-040  \n",
       "34327            NaN  22631-280  \n",
       "34328            NaN  22630-013  \n",
       "\n",
       "[902210 rows x 108 columns]"
      ]
     },
     "metadata": {},
     "output_type": "display_data"
    }
   ],
   "source": [
    "display(base_airbnb)"
   ]
  },
  {
   "cell_type": "markdown",
   "metadata": {},
   "source": [
    "- Como temos muitas colunas, nosso modelo pode acabar ficando muito lento\n",
    "- Além disso, uma análise rápida permite ver que várias colunas são desnecessárias, então vamos excluir algumas colunas\n",
    "- Colunas com texto e de id serão removidas\n",
    "- Colunas que vamos excluir\n",
    "    1. IDs, Links e informações irrelevantes para o modelo\n",
    "    2. Colunas repetidas ou parecidas com outras(contém a mesma informação, ex: data)\n",
    "    3. Colunas preenchidas com texto livre (não utilizarei ferramentas de leitura de texto/padrão de texto)\n",
    "    4. \n",
    "- Para isso, vou criar um arquivo em excel        "
   ]
  },
  {
   "cell_type": "markdown",
   "metadata": {},
   "source": [
    "### Consolidar Base de Dados"
   ]
  },
  {
   "cell_type": "code",
   "execution_count": 9,
   "metadata": {},
   "outputs": [
    {
     "data": {
      "text/plain": [
       "['access',\n",
       " 'accommodates',\n",
       " 'amenities',\n",
       " 'ano',\n",
       " 'availability_30',\n",
       " 'availability_365',\n",
       " 'availability_60',\n",
       " 'availability_90',\n",
       " 'bathrooms',\n",
       " 'bed_type',\n",
       " 'bedrooms',\n",
       " 'beds',\n",
       " 'calculated_host_listings_count',\n",
       " 'calculated_host_listings_count_entire_homes',\n",
       " 'calculated_host_listings_count_private_rooms',\n",
       " 'calculated_host_listings_count_shared_rooms',\n",
       " 'calendar_last_scraped',\n",
       " 'calendar_updated',\n",
       " 'cancellation_policy',\n",
       " 'city',\n",
       " 'cleaning_fee',\n",
       " 'country',\n",
       " 'country_code',\n",
       " 'description',\n",
       " 'experiences_offered',\n",
       " 'extra_people',\n",
       " 'first_review',\n",
       " 'guests_included',\n",
       " 'has_availability',\n",
       " 'host_about',\n",
       " 'host_acceptance_rate',\n",
       " 'host_has_profile_pic',\n",
       " 'host_id',\n",
       " 'host_identity_verified',\n",
       " 'host_is_superhost',\n",
       " 'host_listings_count',\n",
       " 'host_location',\n",
       " 'host_name',\n",
       " 'host_neighbourhood',\n",
       " 'host_picture_url',\n",
       " 'host_response_rate',\n",
       " 'host_response_time',\n",
       " 'host_since',\n",
       " 'host_thumbnail_url',\n",
       " 'host_total_listings_count',\n",
       " 'host_url',\n",
       " 'host_verifications',\n",
       " 'house_rules',\n",
       " 'id',\n",
       " 'instant_bookable',\n",
       " 'interaction',\n",
       " 'is_business_travel_ready',\n",
       " 'is_location_exact',\n",
       " 'jurisdiction_names',\n",
       " 'last_review',\n",
       " 'last_scraped',\n",
       " 'latitude',\n",
       " 'license',\n",
       " 'listing_url',\n",
       " 'longitude',\n",
       " 'market',\n",
       " 'maximum_maximum_nights',\n",
       " 'maximum_minimum_nights',\n",
       " 'maximum_nights',\n",
       " 'maximum_nights_avg_ntm',\n",
       " 'medium_url',\n",
       " 'mes',\n",
       " 'minimum_maximum_nights',\n",
       " 'minimum_minimum_nights',\n",
       " 'minimum_nights',\n",
       " 'minimum_nights_avg_ntm',\n",
       " 'monthly_price',\n",
       " 'name',\n",
       " 'neighborhood_overview',\n",
       " 'neighbourhood',\n",
       " 'neighbourhood_cleansed',\n",
       " 'neighbourhood_group_cleansed',\n",
       " 'notes',\n",
       " 'number_of_reviews',\n",
       " 'number_of_reviews_ltm',\n",
       " 'picture_url',\n",
       " 'price',\n",
       " 'property_type',\n",
       " 'require_guest_phone_verification',\n",
       " 'require_guest_profile_picture',\n",
       " 'requires_license',\n",
       " 'review_scores_accuracy',\n",
       " 'review_scores_checkin',\n",
       " 'review_scores_cleanliness',\n",
       " 'review_scores_communication',\n",
       " 'review_scores_location',\n",
       " 'review_scores_rating',\n",
       " 'review_scores_value',\n",
       " 'reviews_per_month',\n",
       " 'room_type',\n",
       " 'scrape_id',\n",
       " 'security_deposit',\n",
       " 'smart_location',\n",
       " 'space',\n",
       " 'square_feet',\n",
       " 'state',\n",
       " 'street',\n",
       " 'summary',\n",
       " 'thumbnail_url',\n",
       " 'transit',\n",
       " 'weekly_price',\n",
       " 'xl_picture_url',\n",
       " 'zipcode']"
      ]
     },
     "metadata": {},
     "output_type": "display_data"
    }
   ],
   "source": [
    "base_airbnb.head(1000).to_csv('primeirosregistros.csv')\n",
    "\n",
    "display(list(base_airbnb.columns))"
   ]
  },
  {
   "cell_type": "markdown",
   "metadata": {},
   "source": [
    "### Se tivermos muitas colunas, já vamos identificar quais colunas podemos excluir"
   ]
  },
  {
   "cell_type": "code",
   "execution_count": 11,
   "metadata": {},
   "outputs": [
    {
     "name": "stdout",
     "output_type": "stream",
     "text": [
      "['host_response_time', 'host_response_rate', 'host_is_superhost', 'host_listings_count', 'latitude', 'longitude', 'property_type', 'room_type', 'accommodates', 'bathrooms', 'bedrooms', 'beds', 'bed_type', 'amenities', 'price', 'security_deposit', 'cleaning_fee', 'guests_included', 'extra_people', 'minimum_nights', 'maximum_nights', 'number_of_reviews', 'review_scores_rating', 'review_scores_accuracy', 'review_scores_cleanliness', 'review_scores_checkin', 'review_scores_communication', 'review_scores_location', 'review_scores_value', 'instant_bookable', 'is_business_travel_ready', 'cancellation_policy', 'ano', 'mes']\n"
     ]
    },
    {
     "data": {
      "text/html": [
       "<div>\n",
       "<style scoped>\n",
       "    .dataframe tbody tr th:only-of-type {\n",
       "        vertical-align: middle;\n",
       "    }\n",
       "\n",
       "    .dataframe tbody tr th {\n",
       "        vertical-align: top;\n",
       "    }\n",
       "\n",
       "    .dataframe thead th {\n",
       "        text-align: right;\n",
       "    }\n",
       "</style>\n",
       "<table border=\"1\" class=\"dataframe\">\n",
       "  <thead>\n",
       "    <tr style=\"text-align: right;\">\n",
       "      <th></th>\n",
       "      <th>host_response_time</th>\n",
       "      <th>host_response_rate</th>\n",
       "      <th>host_is_superhost</th>\n",
       "      <th>host_listings_count</th>\n",
       "      <th>latitude</th>\n",
       "      <th>longitude</th>\n",
       "      <th>property_type</th>\n",
       "      <th>room_type</th>\n",
       "      <th>accommodates</th>\n",
       "      <th>bathrooms</th>\n",
       "      <th>...</th>\n",
       "      <th>review_scores_cleanliness</th>\n",
       "      <th>review_scores_checkin</th>\n",
       "      <th>review_scores_communication</th>\n",
       "      <th>review_scores_location</th>\n",
       "      <th>review_scores_value</th>\n",
       "      <th>instant_bookable</th>\n",
       "      <th>is_business_travel_ready</th>\n",
       "      <th>cancellation_policy</th>\n",
       "      <th>ano</th>\n",
       "      <th>mes</th>\n",
       "    </tr>\n",
       "  </thead>\n",
       "  <tbody>\n",
       "    <tr>\n",
       "      <td>0</td>\n",
       "      <td>NaN</td>\n",
       "      <td>NaN</td>\n",
       "      <td>f</td>\n",
       "      <td>1.0</td>\n",
       "      <td>-22.946854</td>\n",
       "      <td>-43.182737</td>\n",
       "      <td>Apartment</td>\n",
       "      <td>Entire home/apt</td>\n",
       "      <td>4</td>\n",
       "      <td>1.0</td>\n",
       "      <td>...</td>\n",
       "      <td>9.0</td>\n",
       "      <td>9.0</td>\n",
       "      <td>9.0</td>\n",
       "      <td>9.0</td>\n",
       "      <td>9.0</td>\n",
       "      <td>f</td>\n",
       "      <td>f</td>\n",
       "      <td>strict_14_with_grace_period</td>\n",
       "      <td>2018</td>\n",
       "      <td>4</td>\n",
       "    </tr>\n",
       "    <tr>\n",
       "      <td>1</td>\n",
       "      <td>within an hour</td>\n",
       "      <td>100%</td>\n",
       "      <td>t</td>\n",
       "      <td>2.0</td>\n",
       "      <td>-22.965919</td>\n",
       "      <td>-43.178962</td>\n",
       "      <td>Condominium</td>\n",
       "      <td>Entire home/apt</td>\n",
       "      <td>5</td>\n",
       "      <td>1.0</td>\n",
       "      <td>...</td>\n",
       "      <td>9.0</td>\n",
       "      <td>10.0</td>\n",
       "      <td>10.0</td>\n",
       "      <td>9.0</td>\n",
       "      <td>9.0</td>\n",
       "      <td>t</td>\n",
       "      <td>f</td>\n",
       "      <td>strict</td>\n",
       "      <td>2018</td>\n",
       "      <td>4</td>\n",
       "    </tr>\n",
       "    <tr>\n",
       "      <td>2</td>\n",
       "      <td>within an hour</td>\n",
       "      <td>100%</td>\n",
       "      <td>f</td>\n",
       "      <td>1.0</td>\n",
       "      <td>-22.985698</td>\n",
       "      <td>-43.201935</td>\n",
       "      <td>Apartment</td>\n",
       "      <td>Entire home/apt</td>\n",
       "      <td>2</td>\n",
       "      <td>1.0</td>\n",
       "      <td>...</td>\n",
       "      <td>10.0</td>\n",
       "      <td>10.0</td>\n",
       "      <td>10.0</td>\n",
       "      <td>10.0</td>\n",
       "      <td>9.0</td>\n",
       "      <td>f</td>\n",
       "      <td>f</td>\n",
       "      <td>strict</td>\n",
       "      <td>2018</td>\n",
       "      <td>4</td>\n",
       "    </tr>\n",
       "    <tr>\n",
       "      <td>3</td>\n",
       "      <td>within an hour</td>\n",
       "      <td>100%</td>\n",
       "      <td>f</td>\n",
       "      <td>3.0</td>\n",
       "      <td>-22.977117</td>\n",
       "      <td>-43.190454</td>\n",
       "      <td>Apartment</td>\n",
       "      <td>Entire home/apt</td>\n",
       "      <td>3</td>\n",
       "      <td>1.0</td>\n",
       "      <td>...</td>\n",
       "      <td>10.0</td>\n",
       "      <td>10.0</td>\n",
       "      <td>10.0</td>\n",
       "      <td>10.0</td>\n",
       "      <td>9.0</td>\n",
       "      <td>f</td>\n",
       "      <td>f</td>\n",
       "      <td>strict</td>\n",
       "      <td>2018</td>\n",
       "      <td>4</td>\n",
       "    </tr>\n",
       "    <tr>\n",
       "      <td>4</td>\n",
       "      <td>within an hour</td>\n",
       "      <td>100%</td>\n",
       "      <td>t</td>\n",
       "      <td>1.0</td>\n",
       "      <td>-22.983024</td>\n",
       "      <td>-43.214270</td>\n",
       "      <td>Apartment</td>\n",
       "      <td>Entire home/apt</td>\n",
       "      <td>3</td>\n",
       "      <td>1.0</td>\n",
       "      <td>...</td>\n",
       "      <td>10.0</td>\n",
       "      <td>10.0</td>\n",
       "      <td>10.0</td>\n",
       "      <td>10.0</td>\n",
       "      <td>9.0</td>\n",
       "      <td>t</td>\n",
       "      <td>f</td>\n",
       "      <td>strict</td>\n",
       "      <td>2018</td>\n",
       "      <td>4</td>\n",
       "    </tr>\n",
       "    <tr>\n",
       "      <td>...</td>\n",
       "      <td>...</td>\n",
       "      <td>...</td>\n",
       "      <td>...</td>\n",
       "      <td>...</td>\n",
       "      <td>...</td>\n",
       "      <td>...</td>\n",
       "      <td>...</td>\n",
       "      <td>...</td>\n",
       "      <td>...</td>\n",
       "      <td>...</td>\n",
       "      <td>...</td>\n",
       "      <td>...</td>\n",
       "      <td>...</td>\n",
       "      <td>...</td>\n",
       "      <td>...</td>\n",
       "      <td>...</td>\n",
       "      <td>...</td>\n",
       "      <td>...</td>\n",
       "      <td>...</td>\n",
       "      <td>...</td>\n",
       "      <td>...</td>\n",
       "    </tr>\n",
       "    <tr>\n",
       "      <td>34324</td>\n",
       "      <td>within an hour</td>\n",
       "      <td>93%</td>\n",
       "      <td>f</td>\n",
       "      <td>0.0</td>\n",
       "      <td>-23.003180</td>\n",
       "      <td>-43.342840</td>\n",
       "      <td>Apartment</td>\n",
       "      <td>Entire home/apt</td>\n",
       "      <td>4</td>\n",
       "      <td>1.0</td>\n",
       "      <td>...</td>\n",
       "      <td>NaN</td>\n",
       "      <td>NaN</td>\n",
       "      <td>NaN</td>\n",
       "      <td>NaN</td>\n",
       "      <td>NaN</td>\n",
       "      <td>f</td>\n",
       "      <td>f</td>\n",
       "      <td>flexible</td>\n",
       "      <td>2019</td>\n",
       "      <td>9</td>\n",
       "    </tr>\n",
       "    <tr>\n",
       "      <td>34325</td>\n",
       "      <td>NaN</td>\n",
       "      <td>NaN</td>\n",
       "      <td>f</td>\n",
       "      <td>0.0</td>\n",
       "      <td>-22.966640</td>\n",
       "      <td>-43.393450</td>\n",
       "      <td>Apartment</td>\n",
       "      <td>Entire home/apt</td>\n",
       "      <td>4</td>\n",
       "      <td>2.0</td>\n",
       "      <td>...</td>\n",
       "      <td>NaN</td>\n",
       "      <td>NaN</td>\n",
       "      <td>NaN</td>\n",
       "      <td>NaN</td>\n",
       "      <td>NaN</td>\n",
       "      <td>f</td>\n",
       "      <td>f</td>\n",
       "      <td>flexible</td>\n",
       "      <td>2019</td>\n",
       "      <td>9</td>\n",
       "    </tr>\n",
       "    <tr>\n",
       "      <td>34326</td>\n",
       "      <td>within a few hours</td>\n",
       "      <td>74%</td>\n",
       "      <td>f</td>\n",
       "      <td>32.0</td>\n",
       "      <td>-22.962080</td>\n",
       "      <td>-43.175520</td>\n",
       "      <td>Apartment</td>\n",
       "      <td>Entire home/apt</td>\n",
       "      <td>5</td>\n",
       "      <td>1.0</td>\n",
       "      <td>...</td>\n",
       "      <td>NaN</td>\n",
       "      <td>NaN</td>\n",
       "      <td>NaN</td>\n",
       "      <td>NaN</td>\n",
       "      <td>NaN</td>\n",
       "      <td>f</td>\n",
       "      <td>f</td>\n",
       "      <td>strict_14_with_grace_period</td>\n",
       "      <td>2019</td>\n",
       "      <td>9</td>\n",
       "    </tr>\n",
       "    <tr>\n",
       "      <td>34327</td>\n",
       "      <td>NaN</td>\n",
       "      <td>NaN</td>\n",
       "      <td>f</td>\n",
       "      <td>0.0</td>\n",
       "      <td>-23.003400</td>\n",
       "      <td>-43.341820</td>\n",
       "      <td>Apartment</td>\n",
       "      <td>Entire home/apt</td>\n",
       "      <td>4</td>\n",
       "      <td>1.0</td>\n",
       "      <td>...</td>\n",
       "      <td>NaN</td>\n",
       "      <td>NaN</td>\n",
       "      <td>NaN</td>\n",
       "      <td>NaN</td>\n",
       "      <td>NaN</td>\n",
       "      <td>f</td>\n",
       "      <td>f</td>\n",
       "      <td>strict_14_with_grace_period</td>\n",
       "      <td>2019</td>\n",
       "      <td>9</td>\n",
       "    </tr>\n",
       "    <tr>\n",
       "      <td>34328</td>\n",
       "      <td>a few days or more</td>\n",
       "      <td>38%</td>\n",
       "      <td>f</td>\n",
       "      <td>5.0</td>\n",
       "      <td>-23.010560</td>\n",
       "      <td>-43.363350</td>\n",
       "      <td>Apartment</td>\n",
       "      <td>Private room</td>\n",
       "      <td>2</td>\n",
       "      <td>0.0</td>\n",
       "      <td>...</td>\n",
       "      <td>NaN</td>\n",
       "      <td>NaN</td>\n",
       "      <td>NaN</td>\n",
       "      <td>NaN</td>\n",
       "      <td>NaN</td>\n",
       "      <td>f</td>\n",
       "      <td>f</td>\n",
       "      <td>strict_14_with_grace_period</td>\n",
       "      <td>2019</td>\n",
       "      <td>9</td>\n",
       "    </tr>\n",
       "  </tbody>\n",
       "</table>\n",
       "<p>902210 rows × 34 columns</p>\n",
       "</div>"
      ],
      "text/plain": [
       "       host_response_time host_response_rate host_is_superhost  \\\n",
       "0                     NaN                NaN                 f   \n",
       "1          within an hour               100%                 t   \n",
       "2          within an hour               100%                 f   \n",
       "3          within an hour               100%                 f   \n",
       "4          within an hour               100%                 t   \n",
       "...                   ...                ...               ...   \n",
       "34324      within an hour                93%                 f   \n",
       "34325                 NaN                NaN                 f   \n",
       "34326  within a few hours                74%                 f   \n",
       "34327                 NaN                NaN                 f   \n",
       "34328  a few days or more                38%                 f   \n",
       "\n",
       "       host_listings_count   latitude  longitude property_type  \\\n",
       "0                      1.0 -22.946854 -43.182737     Apartment   \n",
       "1                      2.0 -22.965919 -43.178962   Condominium   \n",
       "2                      1.0 -22.985698 -43.201935     Apartment   \n",
       "3                      3.0 -22.977117 -43.190454     Apartment   \n",
       "4                      1.0 -22.983024 -43.214270     Apartment   \n",
       "...                    ...        ...        ...           ...   \n",
       "34324                  0.0 -23.003180 -43.342840     Apartment   \n",
       "34325                  0.0 -22.966640 -43.393450     Apartment   \n",
       "34326                 32.0 -22.962080 -43.175520     Apartment   \n",
       "34327                  0.0 -23.003400 -43.341820     Apartment   \n",
       "34328                  5.0 -23.010560 -43.363350     Apartment   \n",
       "\n",
       "             room_type  accommodates  bathrooms  ...  \\\n",
       "0      Entire home/apt             4        1.0  ...   \n",
       "1      Entire home/apt             5        1.0  ...   \n",
       "2      Entire home/apt             2        1.0  ...   \n",
       "3      Entire home/apt             3        1.0  ...   \n",
       "4      Entire home/apt             3        1.0  ...   \n",
       "...                ...           ...        ...  ...   \n",
       "34324  Entire home/apt             4        1.0  ...   \n",
       "34325  Entire home/apt             4        2.0  ...   \n",
       "34326  Entire home/apt             5        1.0  ...   \n",
       "34327  Entire home/apt             4        1.0  ...   \n",
       "34328     Private room             2        0.0  ...   \n",
       "\n",
       "       review_scores_cleanliness  review_scores_checkin  \\\n",
       "0                            9.0                    9.0   \n",
       "1                            9.0                   10.0   \n",
       "2                           10.0                   10.0   \n",
       "3                           10.0                   10.0   \n",
       "4                           10.0                   10.0   \n",
       "...                          ...                    ...   \n",
       "34324                        NaN                    NaN   \n",
       "34325                        NaN                    NaN   \n",
       "34326                        NaN                    NaN   \n",
       "34327                        NaN                    NaN   \n",
       "34328                        NaN                    NaN   \n",
       "\n",
       "      review_scores_communication review_scores_location review_scores_value  \\\n",
       "0                             9.0                    9.0                 9.0   \n",
       "1                            10.0                    9.0                 9.0   \n",
       "2                            10.0                   10.0                 9.0   \n",
       "3                            10.0                   10.0                 9.0   \n",
       "4                            10.0                   10.0                 9.0   \n",
       "...                           ...                    ...                 ...   \n",
       "34324                         NaN                    NaN                 NaN   \n",
       "34325                         NaN                    NaN                 NaN   \n",
       "34326                         NaN                    NaN                 NaN   \n",
       "34327                         NaN                    NaN                 NaN   \n",
       "34328                         NaN                    NaN                 NaN   \n",
       "\n",
       "      instant_bookable is_business_travel_ready          cancellation_policy  \\\n",
       "0                    f                        f  strict_14_with_grace_period   \n",
       "1                    t                        f                       strict   \n",
       "2                    f                        f                       strict   \n",
       "3                    f                        f                       strict   \n",
       "4                    t                        f                       strict   \n",
       "...                ...                      ...                          ...   \n",
       "34324                f                        f                     flexible   \n",
       "34325                f                        f                     flexible   \n",
       "34326                f                        f  strict_14_with_grace_period   \n",
       "34327                f                        f  strict_14_with_grace_period   \n",
       "34328                f                        f  strict_14_with_grace_period   \n",
       "\n",
       "        ano  mes  \n",
       "0      2018    4  \n",
       "1      2018    4  \n",
       "2      2018    4  \n",
       "3      2018    4  \n",
       "4      2018    4  \n",
       "...     ...  ...  \n",
       "34324  2019    9  \n",
       "34325  2019    9  \n",
       "34326  2019    9  \n",
       "34327  2019    9  \n",
       "34328  2019    9  \n",
       "\n",
       "[902210 rows x 34 columns]"
      ]
     },
     "metadata": {},
     "output_type": "display_data"
    }
   ],
   "source": [
    "colunas = ['host_response_time','host_response_rate','host_is_superhost','host_listings_count','latitude','longitude','property_type','room_type','accommodates','bathrooms','bedrooms','beds','bed_type','amenities','price','security_deposit','cleaning_fee','guests_included','extra_people','minimum_nights','maximum_nights','number_of_reviews','review_scores_rating','review_scores_accuracy','review_scores_cleanliness','review_scores_checkin','review_scores_communication','review_scores_location','review_scores_value','instant_bookable','is_business_travel_ready','cancellation_policy','ano','mes']\n",
    "\n",
    "base_airbnb = base_airbnb.loc[:, colunas]\n",
    "print(list(base_airbnb.columns))\n",
    "display(base_airbnb)"
   ]
  },
  {
   "cell_type": "markdown",
   "metadata": {},
   "source": [
    "### Tratar Valores Faltando\n",
    "- Visualizando os dados, percebemos que existe uma grande disparidade em dados faltantes. As colunas com mais de 300.000 valores NaN foram excluídas da análise\n",
    "- Para as outras colunas, como temos muitos dados (mais de 900.000 linhas) vamos excluir as linhas que contém dados NaN"
   ]
  },
  {
   "cell_type": "code",
   "execution_count": 12,
   "metadata": {},
   "outputs": [
    {
     "name": "stdout",
     "output_type": "stream",
     "text": [
      "host_is_superhost            460\n",
      "host_listings_count          460\n",
      "latitude                       0\n",
      "longitude                      0\n",
      "property_type                  0\n",
      "room_type                      0\n",
      "accommodates                   0\n",
      "bathrooms                   1724\n",
      "bedrooms                     850\n",
      "beds                        2502\n",
      "bed_type                       0\n",
      "amenities                      0\n",
      "price                          0\n",
      "guests_included                0\n",
      "extra_people                   0\n",
      "minimum_nights                 0\n",
      "maximum_nights                 0\n",
      "number_of_reviews              0\n",
      "instant_bookable               0\n",
      "is_business_travel_ready       0\n",
      "cancellation_policy            0\n",
      "ano                            0\n",
      "mes                            0\n",
      "dtype: int64\n"
     ]
    }
   ],
   "source": [
    "for coluna in base_airbnb:\n",
    "    if base_airbnb[coluna].isnull().sum() > 300000:\n",
    "        base_airbnb = base_airbnb.drop(coluna, axis=1)\n",
    "print(base_airbnb.isnull().sum())\n"
   ]
  },
  {
   "cell_type": "markdown",
   "metadata": {},
   "source": [
    "### - Agora vamos remover as linhas NaN###"
   ]
  },
  {
   "cell_type": "code",
   "execution_count": 13,
   "metadata": {},
   "outputs": [
    {
     "name": "stdout",
     "output_type": "stream",
     "text": [
      "(897709, 23)\n",
      "host_is_superhost           0\n",
      "host_listings_count         0\n",
      "latitude                    0\n",
      "longitude                   0\n",
      "property_type               0\n",
      "room_type                   0\n",
      "accommodates                0\n",
      "bathrooms                   0\n",
      "bedrooms                    0\n",
      "beds                        0\n",
      "bed_type                    0\n",
      "amenities                   0\n",
      "price                       0\n",
      "guests_included             0\n",
      "extra_people                0\n",
      "minimum_nights              0\n",
      "maximum_nights              0\n",
      "number_of_reviews           0\n",
      "instant_bookable            0\n",
      "is_business_travel_ready    0\n",
      "cancellation_policy         0\n",
      "ano                         0\n",
      "mes                         0\n",
      "dtype: int64\n"
     ]
    }
   ],
   "source": [
    "base_airbnb = base_airbnb.dropna()\n",
    "\n",
    "print(base_airbnb.shape)\n",
    "print(base_airbnb.isnull().sum())"
   ]
  },
  {
   "cell_type": "markdown",
   "metadata": {},
   "source": [
    "### Verificar Tipos de Dados em cada coluna"
   ]
  },
  {
   "cell_type": "code",
   "execution_count": 14,
   "metadata": {},
   "outputs": [
    {
     "name": "stdout",
     "output_type": "stream",
     "text": [
      "host_is_superhost            object\n",
      "host_listings_count         float64\n",
      "latitude                    float64\n",
      "longitude                   float64\n",
      "property_type                object\n",
      "room_type                    object\n",
      "accommodates                  int64\n",
      "bathrooms                   float64\n",
      "bedrooms                    float64\n",
      "beds                        float64\n",
      "bed_type                     object\n",
      "amenities                    object\n",
      "price                        object\n",
      "guests_included               int64\n",
      "extra_people                 object\n",
      "minimum_nights                int64\n",
      "maximum_nights                int64\n",
      "number_of_reviews             int64\n",
      "instant_bookable             object\n",
      "is_business_travel_ready     object\n",
      "cancellation_policy          object\n",
      "ano                           int64\n",
      "mes                           int64\n",
      "dtype: object\n",
      "------------------------------------------------------------\n",
      "host_is_superhost                                                           f\n",
      "host_listings_count                                                         1\n",
      "latitude                                                             -22.9469\n",
      "longitude                                                            -43.1827\n",
      "property_type                                                       Apartment\n",
      "room_type                                                     Entire home/apt\n",
      "accommodates                                                                4\n",
      "bathrooms                                                                   1\n",
      "bedrooms                                                                    0\n",
      "beds                                                                        2\n",
      "bed_type                                                             Real Bed\n",
      "amenities                   {TV,Internet,\"Air conditioning\",Kitchen,Doorma...\n",
      "price                                                                 $133.00\n",
      "guests_included                                                             2\n",
      "extra_people                                                           $34.00\n",
      "minimum_nights                                                             60\n",
      "maximum_nights                                                            365\n",
      "number_of_reviews                                                          38\n",
      "instant_bookable                                                            f\n",
      "is_business_travel_ready                                                    f\n",
      "cancellation_policy                               strict_14_with_grace_period\n",
      "ano                                                                      2018\n",
      "mes                                                                         4\n",
      "Name: 0, dtype: object\n"
     ]
    }
   ],
   "source": [
    "print(base_airbnb.dtypes)\n",
    "print('-'*60)\n",
    "print(base_airbnb.iloc[0])"
   ]
  },
  {
   "cell_type": "markdown",
   "metadata": {},
   "source": [
    "- Como preço e extra people estão sendo reconhecidos como objeto (ao invés de ser um float) temos que mudar o tipo de variável da coluna."
   ]
  },
  {
   "cell_type": "code",
   "execution_count": 15,
   "metadata": {},
   "outputs": [],
   "source": [
    "#price\n",
    "base_airbnb['price'] = base_airbnb['price'].str.replace('$', '')\n",
    "base_airbnb['price'] = base_airbnb['price'].str.replace(',', '')\n",
    "base_airbnb['price'] = base_airbnb['price'].astype(np.float32, copy = False)\n",
    "#extra_people\n",
    "base_airbnb['extra_people'] = base_airbnb['extra_people'].str.replace('$', '')\n",
    "base_airbnb['extra_people'] = base_airbnb['extra_people'].str.replace(',', '')\n",
    "base_airbnb['extra_people'] = base_airbnb['extra_people'].astype(np.float32, copy = False)"
   ]
  },
  {
   "cell_type": "markdown",
   "metadata": {},
   "source": [
    "### Análise Exploratória e Tratar Outliers\n",
    "- Vamos basicamente olhar feature por feature para:\n",
    "    1. Ver a correlação entre as features e decidir se manteremos todas as features que temos.\n",
    "    2. Excluir outliers (usaremos como regra, valores abaixo de Q1 - 1.5xAmplitude e valores acima de Q3 + 1.5x Amplitude). Amplitude = Q3 - Q1\n",
    "    3. Confirmar se todas as features que temos fazem realmente sentido para o nosso modelo ou se alguma delas não vai nos ajudar e se devemos excluir\n",
    "    \n",
    "- Vamos começar pelas colunas de preço (resultado final que queremos) e de extra_people (também valor monetário). Esses são os valores numéricos contínuos.\n",
    "\n",
    "- Depois vamos analisar as colunas de valores numéricos discretos (accomodates, bedrooms, guests_included, etc.)\n",
    "\n",
    "- Por fim, vamos avaliar as colunas de texto e definir quais categorias fazem sentido mantermos ou não.\n",
    "\n",
    "MAS CUIDADO: não saia excluindo direto outliers, pense exatamente no que você está fazendo. Se não tem um motivo claro para remover o outlier, talvez não seja necessário e pode ser prejudicial para a generalização. Então tem que ter uma balança ai. Claro que você sempre pode testar e ver qual dá o melhor resultado, mas fazer isso para todas as features vai dar muito trabalho.\n",
    "\n",
    "Ex de análise: Se o objetivo é ajudar a precificar um imóvel que você está querendo disponibilizar, excluir outliers em host_listings_count pode fazer sentido. Agora, se você é uma empresa com uma série de propriedades e quer comparar com outras empresas do tipo também e se posicionar dessa forma, talvez excluir quem tem acima de 6 propriedades tire isso do seu modelo. Pense sempre no seu objetivo"
   ]
  },
  {
   "cell_type": "code",
   "execution_count": 16,
   "metadata": {},
   "outputs": [
    {
     "data": {
      "text/plain": [
       "<matplotlib.axes._subplots.AxesSubplot at 0x139bbb01848>"
      ]
     },
     "execution_count": 16,
     "metadata": {},
     "output_type": "execute_result"
    },
    {
     "data": {
      "image/png": "[encoded data removed]",
      "text/plain": [
       "<Figure size 1080x1080 with 2 Axes>"
      ]
     },
     "metadata": {
      "needs_background": "light"
     },
     "output_type": "display_data"
    }
   ],
   "source": [
    "plt.figure(figsize = (15, 15))\n",
    "sns.heatmap(base_airbnb.corr(), annot = True, cmap= 'Greens')\n",
    "\n",
    "#print(base_airbnb.corr())"
   ]
  },
  {
   "cell_type": "markdown",
   "metadata": {},
   "source": [
    "### Definição de Function para análise de outliers\n",
    "- Vamos definir algumas function para ajudar a analisar as outliers das colunas\n"
   ]
  },
  {
   "cell_type": "code",
   "execution_count": 17,
   "metadata": {},
   "outputs": [],
   "source": [
    "def limites(coluna):\n",
    "    q1 = coluna.quantile(0.25)\n",
    "    q3 = coluna.quantile(0.75)\n",
    "    amplitude = q3 - q1\n",
    "    return q1 - 1.5 * amplitude, q3 + 1.5 * amplitude\n",
    "\n",
    "def excluir_outliers(df, nome_coluna):\n",
    "    qtde_linhas = df.shape[0]\n",
    "    lim_inf, lim_sup = limites(df[nome_coluna])\n",
    "    df = df.loc[(df[nome_coluna] >= lim_inf) & (df[nome_coluna] <= lim_sup), :]\n",
    "    linhas_removidas = qtde_linhas - df.shape[0] \n",
    "    return df, linhas_removidas "
   ]
  },
  {
   "cell_type": "code",
   "execution_count": 18,
   "metadata": {},
   "outputs": [],
   "source": [
    "def diagrama_caixa(coluna):\n",
    "    fig, (ax1, ax2) =  plt.subplots(1, 2)\n",
    "    fig.set_size_inches(12, 4)\n",
    "    sns.boxplot(x=coluna, ax=ax1)\n",
    "    ax2.set_xlim(limites(coluna))\n",
    "    sns.boxplot(x=coluna, ax=ax2)\n",
    "    \n",
    "\n",
    "def histograma(coluna):\n",
    "    plt.figure(figsize = (12, 4))\n",
    "    sns.distplot(coluna, hist=True)\n",
    "    \n",
    "def grafico_barra(coluna):  \n",
    "    plt.figure(figsize=(15, 5))\n",
    "    ax = sns.barplot(x=coluna.value_counts().index, y=coluna.value_counts())\n",
    "    ax.set_xlim(limites(coluna))    "
   ]
  },
  {
   "cell_type": "markdown",
   "metadata": {},
   "source": [
    "### Price"
   ]
  },
  {
   "cell_type": "code",
   "execution_count": 19,
   "metadata": {},
   "outputs": [
    {
     "data": {
      "image/png": "[encoded data removed]",
      "text/plain": [
       "<Figure size 864x288 with 2 Axes>"
      ]
     },
     "metadata": {
      "needs_background": "light"
     },
     "output_type": "display_data"
    },
    {
     "data": {
      "image/png": "[encoded data removed]",
      "text/plain": [
       "<Figure size 864x288 with 1 Axes>"
      ]
     },
     "metadata": {
      "needs_background": "light"
     },
     "output_type": "display_data"
    }
   ],
   "source": [
    "diagrama_caixa(base_airbnb['price'])\n",
    "histograma(base_airbnb['price'])    "
   ]
  },
  {
   "cell_type": "code",
   "execution_count": 20,
   "metadata": {},
   "outputs": [
    {
     "name": "stdout",
     "output_type": "stream",
     "text": [
      "87282 linhas removidas\n"
     ]
    }
   ],
   "source": [
    "base_airbnb, linhas_removidas = excluir_outliers(base_airbnb, 'price')\n",
    "\n",
    "print(f'{linhas_removidas} linhas removidas')"
   ]
  },
  {
   "cell_type": "code",
   "execution_count": 21,
   "metadata": {},
   "outputs": [
    {
     "name": "stdout",
     "output_type": "stream",
     "text": [
      "(810427, 23)\n"
     ]
    },
    {
     "data": {
      "image/png": "[encoded data removed]",
      "text/plain": [
       "<Figure size 864x288 with 1 Axes>"
      ]
     },
     "metadata": {
      "needs_background": "light"
     },
     "output_type": "display_data"
    }
   ],
   "source": [
    "histograma(base_airbnb['price'])\n",
    "print(base_airbnb.shape)"
   ]
  },
  {
   "cell_type": "code",
   "execution_count": 22,
   "metadata": {},
   "outputs": [
    {
     "name": "stdout",
     "output_type": "stream",
     "text": [
      "(-0.5, 3.5)\n"
     ]
    },
    {
     "data": {
      "text/plain": [
       "count    810427.000000\n",
       "mean          1.504628\n",
       "std           0.928901\n",
       "min           0.000000\n",
       "25%           1.000000\n",
       "50%           1.000000\n",
       "75%           2.000000\n",
       "max          45.000000\n",
       "Name: bedrooms, dtype: float64"
      ]
     },
     "execution_count": 22,
     "metadata": {},
     "output_type": "execute_result"
    }
   ],
   "source": [
    "print(limites(base_airbnb['bedrooms']))\n",
    "base_airbnb['bedrooms'].describe()"
   ]
  },
  {
   "cell_type": "markdown",
   "metadata": {},
   "source": [
    "### extra_people"
   ]
  },
  {
   "cell_type": "code",
   "execution_count": 23,
   "metadata": {},
   "outputs": [
    {
     "data": {
      "image/png": "[encoded data removed]",
      "text/plain": [
       "<Figure size 864x288 with 2 Axes>"
      ]
     },
     "metadata": {
      "needs_background": "light"
     },
     "output_type": "display_data"
    },
    {
     "data": {
      "image/png": "[encoded data removed]",
      "text/plain": [
       "<Figure size 864x288 with 1 Axes>"
      ]
     },
     "metadata": {
      "needs_background": "light"
     },
     "output_type": "display_data"
    }
   ],
   "source": [
    "diagrama_caixa(base_airbnb['extra_people'])\n",
    "histograma(base_airbnb['extra_people'])    "
   ]
  },
  {
   "cell_type": "markdown",
   "metadata": {},
   "source": [
    "### Como estamos construindo um modelo para imóveis comuns, acredito que os valores acima do limite superior serão apenas apartamentos/casas de luxo, que não é nosso objetivo principal, então vamos excluir esses outliers"
   ]
  },
  {
   "cell_type": "code",
   "execution_count": 24,
   "metadata": {},
   "outputs": [
    {
     "data": {
      "image/png": "[encoded data removed]",
      "text/plain": [
       "<Figure size 864x288 with 2 Axes>"
      ]
     },
     "metadata": {
      "needs_background": "light"
     },
     "output_type": "display_data"
    },
    {
     "data": {
      "image/png": "[encoded data removed]",
      "text/plain": [
       "<Figure size 864x288 with 1 Axes>"
      ]
     },
     "metadata": {
      "needs_background": "light"
     },
     "output_type": "display_data"
    }
   ],
   "source": [
    "base_airbnb, linhas_removidas = excluir_outliers(base_airbnb, 'extra_people')\n",
    "diagrama_caixa(base_airbnb['extra_people'])\n",
    "histograma(base_airbnb['extra_people'])    "
   ]
  },
  {
   "cell_type": "markdown",
   "metadata": {},
   "source": [
    "### host_listings_count"
   ]
  },
  {
   "cell_type": "code",
   "execution_count": 25,
   "metadata": {},
   "outputs": [
    {
     "data": {
      "text/plain": [
       "1.0      391506\n",
       "2.0      128922\n",
       "3.0       53462\n",
       "4.0       31266\n",
       "5.0       18732\n",
       "          ...  \n",
       "488.0         1\n",
       "485.0         1\n",
       "161.0         1\n",
       "329.0         1\n",
       "114.0         1\n",
       "Name: host_listings_count, Length: 188, dtype: int64"
      ]
     },
     "execution_count": 25,
     "metadata": {},
     "output_type": "execute_result"
    }
   ],
   "source": [
    "base_airbnb['host_listings_count'].value_counts()"
   ]
  },
  {
   "cell_type": "code",
   "execution_count": 26,
   "metadata": {},
   "outputs": [
    {
     "data": {
      "image/png": "[encoded data removed]",
      "text/plain": [
       "<Figure size 864x288 with 2 Axes>"
      ]
     },
     "metadata": {
      "needs_background": "light"
     },
     "output_type": "display_data"
    },
    {
     "data": {
      "image/png": "[encoded data removed]",
      "text/plain": [
       "<Figure size 1080x360 with 1 Axes>"
      ]
     },
     "metadata": {
      "needs_background": "light"
     },
     "output_type": "display_data"
    }
   ],
   "source": [
    "\n",
    "diagrama_caixa(base_airbnb['host_listings_count'])\n",
    "grafico_barra(base_airbnb['host_listings_count'])   "
   ]
  },
  {
   "cell_type": "markdown",
   "metadata": {},
   "source": [
    "Podemos excluir os outliers, porque para o objetivo do nosso projeto porque hosts com mais de 6 imóveis no airbnb não é o público alvo do objetivo do projeto (imagino que sejam imobiliários ou profissionais que gerenciam imóveis no airbnb)"
   ]
  },
  {
   "cell_type": "code",
   "execution_count": 27,
   "metadata": {},
   "outputs": [
    {
     "name": "stdout",
     "output_type": "stream",
     "text": [
      "97723 linhas removidas\n"
     ]
    }
   ],
   "source": [
    "base_airbnb, linhas_removidas = excluir_outliers(base_airbnb, 'host_listings_count')\n",
    "print('{} linhas removidas'.format(linhas_removidas))"
   ]
  },
  {
   "cell_type": "code",
   "execution_count": 28,
   "metadata": {},
   "outputs": [
    {
     "data": {
      "image/png": "[encoded data removed]",
      "text/plain": [
       "<Figure size 864x288 with 2 Axes>"
      ]
     },
     "metadata": {
      "needs_background": "light"
     },
     "output_type": "display_data"
    },
    {
     "data": {
      "image/png": "[encoded data removed]",
      "text/plain": [
       "<Figure size 1080x360 with 1 Axes>"
      ]
     },
     "metadata": {
      "needs_background": "light"
     },
     "output_type": "display_data"
    }
   ],
   "source": [
    "\n",
    "diagrama_caixa(base_airbnb['host_listings_count'])\n",
    "grafico_barra(base_airbnb['host_listings_count'])   "
   ]
  },
  {
   "cell_type": "markdown",
   "metadata": {},
   "source": [
    "### accommodates"
   ]
  },
  {
   "cell_type": "code",
   "execution_count": 29,
   "metadata": {},
   "outputs": [
    {
     "data": {
      "image/png": "[encoded data removed]",
      "text/plain": [
       "<Figure size 864x288 with 2 Axes>"
      ]
     },
     "metadata": {
      "needs_background": "light"
     },
     "output_type": "display_data"
    },
    {
     "data": {
      "image/png": "[encoded data removed]",
      "text/plain": [
       "<Figure size 1080x360 with 1 Axes>"
      ]
     },
     "metadata": {
      "needs_background": "light"
     },
     "output_type": "display_data"
    }
   ],
   "source": [
    "diagrama_caixa(base_airbnb['accommodates'])\n",
    "grafico_barra(base_airbnb['accommodates'])"
   ]
  },
  {
   "cell_type": "markdown",
   "metadata": {},
   "source": [
    "- Pelo mesmo motivo do \"host_listings_count\" vamos excluir os outliers dessa coluna porque apartamentos que acomodam mais de 9 pessoas não são o nosso foco, nosso objetivo aqui é para imóveis comuns.\n",
    "\n",
    "- Caso a gente quisesse incluir apartamentos de alto padrão a gente poderia manter essa variável ou então construir um modelo só focado em imóvei com mais de 9 hóspedes"
   ]
  },
  {
   "cell_type": "code",
   "execution_count": 30,
   "metadata": {},
   "outputs": [
    {
     "name": "stdout",
     "output_type": "stream",
     "text": [
      "13146 linhas removidas\n"
     ]
    }
   ],
   "source": [
    "base_airbnb, linhas_removidas = excluir_outliers(base_airbnb, 'accommodates')\n",
    "print('{} linhas removidas'.format(linhas_removidas))"
   ]
  },
  {
   "cell_type": "markdown",
   "metadata": {},
   "source": [
    "### bathrooms"
   ]
  },
  {
   "cell_type": "code",
   "execution_count": 31,
   "metadata": {},
   "outputs": [
    {
     "data": {
      "text/plain": [
       "<matplotlib.axes._subplots.AxesSubplot at 0x1392e5548c8>"
      ]
     },
     "execution_count": 31,
     "metadata": {},
     "output_type": "execute_result"
    },
    {
     "data": {
      "image/png": "[encoded data removed]",
      "text/plain": [
       "<Figure size 864x288 with 2 Axes>"
      ]
     },
     "metadata": {
      "needs_background": "light"
     },
     "output_type": "display_data"
    },
    {
     "data": {
      "image/png": "[encoded data removed]",
      "text/plain": [
       "<Figure size 1080x360 with 1 Axes>"
      ]
     },
     "metadata": {
      "needs_background": "light"
     },
     "output_type": "display_data"
    }
   ],
   "source": [
    "diagrama_caixa(base_airbnb['bathrooms'])\n",
    "plt.figure(figsize=(15, 5))\n",
    "sns.barplot(x=base_airbnb['bathrooms'].value_counts().index, y=base_airbnb['bathrooms'].value_counts())"
   ]
  },
  {
   "cell_type": "code",
   "execution_count": 32,
   "metadata": {},
   "outputs": [
    {
     "name": "stdout",
     "output_type": "stream",
     "text": [
      "6894 linhas removidas\n"
     ]
    }
   ],
   "source": [
    "base_airbnb, linhas_removidas = excluir_outliers(base_airbnb, 'bathrooms')\n",
    "print('{} linhas removidas'.format(linhas_removidas))"
   ]
  },
  {
   "cell_type": "markdown",
   "metadata": {},
   "source": [
    "### bedrooms"
   ]
  },
  {
   "cell_type": "code",
   "execution_count": 33,
   "metadata": {},
   "outputs": [
    {
     "data": {
      "image/png": "[encoded data removed]",
      "text/plain": [
       "<Figure size 864x288 with 2 Axes>"
      ]
     },
     "metadata": {
      "needs_background": "light"
     },
     "output_type": "display_data"
    },
    {
     "data": {
      "image/png": "[encoded data removed]",
      "text/plain": [
       "<Figure size 1080x360 with 1 Axes>"
      ]
     },
     "metadata": {
      "needs_background": "light"
     },
     "output_type": "display_data"
    }
   ],
   "source": [
    "diagrama_caixa(base_airbnb['bedrooms'])\n",
    "grafico_barra(base_airbnb['bedrooms'])"
   ]
  },
  {
   "cell_type": "code",
   "execution_count": 34,
   "metadata": {},
   "outputs": [
    {
     "name": "stdout",
     "output_type": "stream",
     "text": [
      "5482 linhas removidas\n"
     ]
    }
   ],
   "source": [
    "base_airbnb, linhas_removidas = excluir_outliers(base_airbnb, 'bedrooms')\n",
    "print('{} linhas removidas'.format(linhas_removidas))"
   ]
  },
  {
   "cell_type": "markdown",
   "metadata": {},
   "source": [
    "### beds\n"
   ]
  },
  {
   "cell_type": "code",
   "execution_count": 35,
   "metadata": {},
   "outputs": [
    {
     "data": {
      "image/png": "[encoded data removed]",
      "text/plain": [
       "<Figure size 864x288 with 2 Axes>"
      ]
     },
     "metadata": {
      "needs_background": "light"
     },
     "output_type": "display_data"
    },
    {
     "data": {
      "image/png": "[encoded data removed]",
      "text/plain": [
       "<Figure size 1080x360 with 1 Axes>"
      ]
     },
     "metadata": {
      "needs_background": "light"
     },
     "output_type": "display_data"
    }
   ],
   "source": [
    "diagrama_caixa(base_airbnb['beds'])\n",
    "grafico_barra(base_airbnb['beds'])"
   ]
  },
  {
   "cell_type": "code",
   "execution_count": 36,
   "metadata": {},
   "outputs": [
    {
     "name": "stdout",
     "output_type": "stream",
     "text": [
      "5622 linhas removidas\n"
     ]
    }
   ],
   "source": [
    "base_airbnb, linhas_removidas = excluir_outliers(base_airbnb, 'beds')\n",
    "print('{} linhas removidas'.format(linhas_removidas))"
   ]
  },
  {
   "cell_type": "markdown",
   "metadata": {},
   "source": [
    "### guests_included"
   ]
  },
  {
   "cell_type": "code",
   "execution_count": 37,
   "metadata": {},
   "outputs": [
    {
     "name": "stdout",
     "output_type": "stream",
     "text": [
      "(1.0, 1.0)\n"
     ]
    },
    {
     "data": {
      "text/plain": [
       "<matplotlib.axes._subplots.AxesSubplot at 0x1395ba3ab88>"
      ]
     },
     "execution_count": 37,
     "metadata": {},
     "output_type": "execute_result"
    },
    {
     "data": {
      "image/png": "[encoded data removed]",
      "text/plain": [
       "<Figure size 1080x360 with 1 Axes>"
      ]
     },
     "metadata": {
      "needs_background": "light"
     },
     "output_type": "display_data"
    }
   ],
   "source": [
    "#diagrama_caixa(base_airbnb['guests_included'])\n",
    "#grafico_barra(base_airbnb['guests_included'])\n",
    "print(limites(base_airbnb['guests_included']))\n",
    "plt.figure(figsize=(15, 5))\n",
    "sns.barplot(x=base_airbnb['guests_included'].value_counts().index, y=base_airbnb['guests_included'].value_counts())"
   ]
  },
  {
   "cell_type": "markdown",
   "metadata": {},
   "source": [
    "- Vamos remover essa feature da análise. Parece que os usuários do airbnb usam muito o valor padrão do airbnb como 1 guest included. Isso pode levar o nosso modelo a considerar uma feature que na verdade não é essencial para a definição do preço, por isso, me parece melhor excluir a coluna da análise"
   ]
  },
  {
   "cell_type": "code",
   "execution_count": 38,
   "metadata": {},
   "outputs": [
    {
     "data": {
      "text/plain": [
       "(622366, 22)"
      ]
     },
     "execution_count": 38,
     "metadata": {},
     "output_type": "execute_result"
    }
   ],
   "source": [
    "\n",
    "base_airbnb = base_airbnb.drop('guests_included', axis=1)\n",
    "base_airbnb.shape"
   ]
  },
  {
   "cell_type": "markdown",
   "metadata": {},
   "source": [
    "### minimum_nights\n"
   ]
  },
  {
   "cell_type": "code",
   "execution_count": 39,
   "metadata": {},
   "outputs": [
    {
     "data": {
      "image/png": "[encoded data removed]",
      "text/plain": [
       "<Figure size 864x288 with 2 Axes>"
      ]
     },
     "metadata": {
      "needs_background": "light"
     },
     "output_type": "display_data"
    },
    {
     "data": {
      "image/png": "[encoded data removed]",
      "text/plain": [
       "<Figure size 1080x360 with 1 Axes>"
      ]
     },
     "metadata": {
      "needs_background": "light"
     },
     "output_type": "display_data"
    }
   ],
   "source": [
    "diagrama_caixa(base_airbnb['minimum_nights'])\n",
    "grafico_barra(base_airbnb['minimum_nights'])"
   ]
  },
  {
   "cell_type": "markdown",
   "metadata": {},
   "source": [
    "- Aqui temos um motivo talvez até mais forte para excluir esses apartamentos da análise.\n",
    "\n",
    "- Estamos querendo um modelo que ajude a precificar apartamentos comuns como uma pessoa comum gostaria de disponibilizar. No caso, apartamentos com mais de 8 noites como o \"mínimo de noites\" podem ser apartamentos de temporada ou ainda apartamentos para morar, em que o host exige pelo menos 1 mês no apartamento.\n",
    "\n",
    "- Por isso, vamos excluir os outliers dessa coluna"
   ]
  },
  {
   "cell_type": "code",
   "execution_count": 40,
   "metadata": {},
   "outputs": [
    {
     "name": "stdout",
     "output_type": "stream",
     "text": [
      "40383 linhas removidas\n"
     ]
    }
   ],
   "source": [
    "base_airbnb, linhas_removidas = excluir_outliers(base_airbnb, 'minimum_nights')\n",
    "print('{} linhas removidas'.format(linhas_removidas))"
   ]
  },
  {
   "cell_type": "markdown",
   "metadata": {},
   "source": [
    "### maximum_nights"
   ]
  },
  {
   "cell_type": "code",
   "execution_count": 41,
   "metadata": {},
   "outputs": [
    {
     "data": {
      "image/png": "[encoded data removed]",
      "text/plain": [
       "<Figure size 864x288 with 2 Axes>"
      ]
     },
     "metadata": {
      "needs_background": "light"
     },
     "output_type": "display_data"
    },
    {
     "data": {
      "image/png": "[encoded data removed]",
      "text/plain": [
       "<Figure size 1080x360 with 1 Axes>"
      ]
     },
     "metadata": {
      "needs_background": "light"
     },
     "output_type": "display_data"
    }
   ],
   "source": [
    "diagrama_caixa(base_airbnb['maximum_nights'])\n",
    "grafico_barra(base_airbnb['maximum_nights'])"
   ]
  },
  {
   "cell_type": "markdown",
   "metadata": {},
   "source": [
    "- Essa coluna não parece que vai ajudar na análise.\n",
    "\n",
    "- Isso porque parece que quase todos os hosts não preenchem esse campo de maximum nights, então ele não parece que vai ser um fator relevante.\n",
    "\n",
    "- É melhor excluirmos essa coluna da análise"
   ]
  },
  {
   "cell_type": "code",
   "execution_count": 42,
   "metadata": {},
   "outputs": [
    {
     "data": {
      "text/plain": [
       "(581983, 21)"
      ]
     },
     "execution_count": 42,
     "metadata": {},
     "output_type": "execute_result"
    }
   ],
   "source": [
    "base_airbnb = base_airbnb.drop('maximum_nights', axis=1)\n",
    "base_airbnb.shape"
   ]
  },
  {
   "cell_type": "markdown",
   "metadata": {},
   "source": [
    "### number_of_reviews "
   ]
  },
  {
   "cell_type": "code",
   "execution_count": 43,
   "metadata": {},
   "outputs": [
    {
     "data": {
      "image/png": "[encoded data removed]",
      "text/plain": [
       "<Figure size 864x288 with 2 Axes>"
      ]
     },
     "metadata": {
      "needs_background": "light"
     },
     "output_type": "display_data"
    },
    {
     "data": {
      "image/png": "[encoded data removed]",
      "text/plain": [
       "<Figure size 1080x360 with 1 Axes>"
      ]
     },
     "metadata": {
      "needs_background": "light"
     },
     "output_type": "display_data"
    }
   ],
   "source": [
    "diagrama_caixa(base_airbnb['number_of_reviews'])\n",
    "grafico_barra(base_airbnb['number_of_reviews'])"
   ]
  },
  {
   "cell_type": "markdown",
   "metadata": {},
   "source": [
    "- Aqui poderíamos tomar algumas decisões diferentes. Eu vou tomar uma decisão baseado na minha análise pessoal de tirar essa característica da análise, por alguns motivos:\n",
    "\n",
    "    1. Se excluirmos os outliers, vamos excluir as pessoas que tem a maior quantidade de reviews (o que normalmente são os hosts que têm mais aluguel). Isso pode impactar muito negativamente o nosso modelo\n",
    "    2. Pensando no nosso objetivo, se eu tenho um imóvel parado e quero colocar meu imóvel lá, é claro que eu não tenho review nenhuma. Então talvez tirar essa característica da análise pode na verdade acabar ajudando.\n",
    "    3. Particularmente tenho dúvida se essa característica deveria impactar ou não o preço final"
   ]
  },
  {
   "cell_type": "code",
   "execution_count": 44,
   "metadata": {},
   "outputs": [
    {
     "data": {
      "text/plain": [
       "(581983, 20)"
      ]
     },
     "execution_count": 44,
     "metadata": {},
     "output_type": "execute_result"
    }
   ],
   "source": [
    "base_airbnb = base_airbnb.drop('number_of_reviews', axis=1)\n",
    "base_airbnb.shape"
   ]
  },
  {
   "cell_type": "markdown",
   "metadata": {},
   "source": [
    "host_is_superhost           \n",
    "host_listings_count         \n",
    "accommodates                  \n",
    "bathrooms                  \n",
    "bedrooms                   \n",
    "beds                      \n",
    "guests_included              \n",
    "minimum_nights                \n",
    "maximum_nights               \n",
    "number_of_reviews          "
   ]
  },
  {
   "cell_type": "markdown",
   "metadata": {},
   "source": [
    "### Tratamento de Colunas de Valores de Texto\n",
    "\n"
   ]
  },
  {
   "cell_type": "markdown",
   "metadata": {},
   "source": [
    "property_type                                                      \n",
    "room_type                                                     \n",
    "bed_type                                                             \n",
    "amenities                   \n",
    "cancellation_policy                              \n"
   ]
  },
  {
   "cell_type": "markdown",
   "metadata": {},
   "source": [
    "- property_type"
   ]
  },
  {
   "cell_type": "code",
   "execution_count": 45,
   "metadata": {},
   "outputs": [
    {
     "name": "stdout",
     "output_type": "stream",
     "text": [
      "Apartment                 458354\n",
      "House                      51387\n",
      "Condominium                26456\n",
      "Serviced apartment         12671\n",
      "Loft                       12352\n",
      "Guest suite                 3621\n",
      "Bed and breakfast           3472\n",
      "Hostel                      2665\n",
      "Guesthouse                  2155\n",
      "Other                       1957\n",
      "Villa                       1294\n",
      "Townhouse                    969\n",
      "Aparthotel                   693\n",
      "Chalet                       481\n",
      "Earth house                  468\n",
      "Tiny house                   457\n",
      "Boutique hotel               447\n",
      "Hotel                        376\n",
      "Casa particular (Cuba)       298\n",
      "Cottage                      230\n",
      "Bungalow                     207\n",
      "Dorm                         185\n",
      "Cabin                        141\n",
      "Nature lodge                 124\n",
      "Castle                        80\n",
      "Treehouse                     76\n",
      "Island                        54\n",
      "Boat                          53\n",
      "Hut                           40\n",
      "Campsite                      34\n",
      "Resort                        31\n",
      "Camper/RV                     24\n",
      "Yurt                          23\n",
      "Tent                          18\n",
      "Tipi                          17\n",
      "Barn                          15\n",
      "Farm stay                     13\n",
      "Pension (South Korea)          9\n",
      "Dome house                     8\n",
      "Igloo                          6\n",
      "In-law                         6\n",
      "Vacation home                  4\n",
      "Pousada                        3\n",
      "Houseboat                      3\n",
      "Timeshare                      3\n",
      "Casa particular                2\n",
      "Plane                          1\n",
      "Name: property_type, dtype: int64\n"
     ]
    },
    {
     "data": {
      "image/png": "[encoded data removed]",
      "text/plain": [
       "<Figure size 1440x360 with 1 Axes>"
      ]
     },
     "metadata": {
      "needs_background": "light"
     },
     "output_type": "display_data"
    }
   ],
   "source": [
    "print(base_airbnb['property_type'].value_counts())\n",
    "plt.figure(figsize = (20,5))\n",
    "grafico = sns.countplot('property_type', data=base_airbnb)\n",
    "grafico.tick_params(axis='x', rotation = 90)"
   ]
  },
  {
   "cell_type": "code",
   "execution_count": 46,
   "metadata": {},
   "outputs": [
    {
     "name": "stdout",
     "output_type": "stream",
     "text": [
      "Apartment             458354\n",
      "House                  51387\n",
      "Condominium            26456\n",
      "Serviced apartment     12671\n",
      "Loft                   12352\n",
      "Outros                  8850\n",
      "Guest suite             3621\n",
      "Bed and breakfast       3472\n",
      "Hostel                  2665\n",
      "Guesthouse              2155\n",
      "Name: property_type, dtype: int64\n"
     ]
    }
   ],
   "source": [
    "tabela_tipos_casa = base_airbnb['property_type'].value_counts()\n",
    "colunas_agrupar = []\n",
    "\n",
    "for tipo in tabela_tipos_casa.index:\n",
    "    if tabela_tipos_casa[tipo] < 2000:\n",
    "        colunas_agrupar.append(tipo)\n",
    "        \n",
    "        \n",
    "for tipo in colunas_agrupar:\n",
    "    base_airbnb.loc[base_airbnb['property_type']==tipo, 'property_type'] = 'Outros'\n",
    "\n",
    "    \n",
    "print(base_airbnb['property_type'].value_counts())"
   ]
  },
  {
   "cell_type": "code",
   "execution_count": 47,
   "metadata": {},
   "outputs": [
    {
     "data": {
      "image/png": "[encoded data removed]",
      "text/plain": [
       "<Figure size 1440x360 with 1 Axes>"
      ]
     },
     "metadata": {
      "needs_background": "light"
     },
     "output_type": "display_data"
    }
   ],
   "source": [
    "plt.figure(figsize = (20,5))\n",
    "grafico = sns.countplot('property_type', data=base_airbnb)\n",
    "grafico.tick_params(axis='x', rotation = 90)"
   ]
  },
  {
   "cell_type": "markdown",
   "metadata": {},
   "source": [
    "### room_type  "
   ]
  },
  {
   "cell_type": "code",
   "execution_count": 48,
   "metadata": {},
   "outputs": [
    {
     "name": "stdout",
     "output_type": "stream",
     "text": [
      "Entire home/apt    372443\n",
      "Private room       196859\n",
      "Shared room         11714\n",
      "Hotel room            967\n",
      "Name: room_type, dtype: int64\n"
     ]
    },
    {
     "data": {
      "image/png": "[encoded data removed]",
      "text/plain": [
       "<Figure size 1440x360 with 1 Axes>"
      ]
     },
     "metadata": {
      "needs_background": "light"
     },
     "output_type": "display_data"
    }
   ],
   "source": [
    "print(base_airbnb['room_type'].value_counts())\n",
    "plt.figure(figsize = (20,5))\n",
    "grafico = sns.countplot('room_type', data=base_airbnb)\n",
    "grafico.tick_params(axis='x', rotation = 90)"
   ]
  },
  {
   "cell_type": "markdown",
   "metadata": {},
   "source": [
    "### bed_type "
   ]
  },
  {
   "cell_type": "code",
   "execution_count": 49,
   "metadata": {},
   "outputs": [
    {
     "name": "stdout",
     "output_type": "stream",
     "text": [
      "Real Bed         570643\n",
      "Pull-out Sofa      8055\n",
      "Futon              1634\n",
      "Airbed             1155\n",
      "Couch               496\n",
      "Name: bed_type, dtype: int64\n",
      "Real Bed    570643\n",
      "Outros       11340\n",
      "Name: bed_type, dtype: int64\n"
     ]
    },
    {
     "data": {
      "image/png": "[encoded data removed]",
      "text/plain": [
       "<Figure size 1440x360 with 1 Axes>"
      ]
     },
     "metadata": {
      "needs_background": "light"
     },
     "output_type": "display_data"
    },
    {
     "data": {
      "image/png": "[encoded data removed]",
      "text/plain": [
       "<Figure size 1440x360 with 1 Axes>"
      ]
     },
     "metadata": {
      "needs_background": "light"
     },
     "output_type": "display_data"
    }
   ],
   "source": [
    "print(base_airbnb['bed_type'].value_counts())\n",
    "plt.figure(figsize = (20,5))\n",
    "grafico = sns.countplot('bed_type', data=base_airbnb)\n",
    "grafico.tick_params(axis='x', rotation = 90)\n",
    "\n",
    "\n",
    "tabela_bed = base_airbnb['bed_type'].value_counts()\n",
    "colunas_agrupar = []\n",
    "\n",
    "for tipo in tabela_bed.index:\n",
    "    if tabela_bed[tipo] < 10000:\n",
    "        colunas_agrupar.append(tipo)\n",
    "        \n",
    "        \n",
    "for tipo in colunas_agrupar:\n",
    "    base_airbnb.loc[base_airbnb['bed_type']==tipo, 'bed_type'] = 'Outros'\n",
    "    \n",
    "print(base_airbnb['bed_type'].value_counts())\n",
    "plt.figure(figsize = (20,5))\n",
    "grafico = sns.countplot('bed_type', data=base_airbnb)\n",
    "grafico.tick_params(axis='x', rotation = 90)"
   ]
  },
  {
   "cell_type": "markdown",
   "metadata": {},
   "source": [
    "### cancellation_policy "
   ]
  },
  {
   "cell_type": "code",
   "execution_count": 50,
   "metadata": {},
   "outputs": [
    {
     "name": "stdout",
     "output_type": "stream",
     "text": [
      "flexible                       258096\n",
      "strict_14_with_grace_period    200743\n",
      "moderate                       113281\n",
      "strict                           9696\n",
      "super_strict_60                   135\n",
      "super_strict_30                    32\n",
      "Name: cancellation_policy, dtype: int64\n"
     ]
    },
    {
     "data": {
      "image/png": "[encoded data removed]",
      "text/plain": [
       "<Figure size 1440x360 with 1 Axes>"
      ]
     },
     "metadata": {
      "needs_background": "light"
     },
     "output_type": "display_data"
    }
   ],
   "source": [
    "print(base_airbnb['cancellation_policy'].value_counts())\n",
    "plt.figure(figsize = (20,5))\n",
    "grafico = sns.countplot('cancellation_policy', data=base_airbnb)\n",
    "grafico.tick_params(axis='x', rotation = 90)"
   ]
  },
  {
   "cell_type": "code",
   "execution_count": 51,
   "metadata": {},
   "outputs": [
    {
     "name": "stdout",
     "output_type": "stream",
     "text": [
      "flexible                       258096\n",
      "strict_14_with_grace_period    200743\n",
      "moderate                       113281\n",
      "strict                           9863\n",
      "Name: cancellation_policy, dtype: int64\n"
     ]
    },
    {
     "data": {
      "image/png": "[encoded data removed]",
      "text/plain": [
       "<Figure size 1440x360 with 1 Axes>"
      ]
     },
     "metadata": {
      "needs_background": "light"
     },
     "output_type": "display_data"
    }
   ],
   "source": [
    "tabela_cancellation = base_airbnb['cancellation_policy'].value_counts()\n",
    "colunas_agrupar = []\n",
    "\n",
    "for tipo in tabela_cancellation.index:\n",
    "    if tabela_cancellation[tipo] < 10000:\n",
    "        colunas_agrupar.append(tipo)\n",
    "        \n",
    "        \n",
    "for tipo in colunas_agrupar:\n",
    "    base_airbnb.loc[base_airbnb['cancellation_policy']==tipo, 'cancellation_policy'] = 'strict'\n",
    "    \n",
    "print(base_airbnb['cancellation_policy'].value_counts())\n",
    "plt.figure(figsize = (20,5))\n",
    "grafico = sns.countplot('cancellation_policy', data=base_airbnb)\n",
    "grafico.tick_params(axis='x', rotation = 90)"
   ]
  },
  {
   "cell_type": "markdown",
   "metadata": {},
   "source": [
    "### amenities\n",
    "\n",
    "- Como temos uma diversidade muito grande de amenities e, às vezes, as mesmas amenities podem ser escritas de forma diferente, vamos avaliar a quantidade de amenities como o parâmetro para o nosso modelo."
   ]
  },
  {
   "cell_type": "code",
   "execution_count": 52,
   "metadata": {},
   "outputs": [
    {
     "name": "stdout",
     "output_type": "stream",
     "text": [
      "25\n",
      "['{TV', '\"Cable TV\"', 'Internet', 'Wifi', '\"Air conditioning\"', 'Kitchen', '\"Paid parking off premises\"', '\"Smoking allowed\"', 'Doorman', 'Elevator', '\"Hot tub\"', '\"Family/kid friendly\"', '\"Suitable for events\"', 'Essentials', '\"24-hour check-in\"', 'Hangers', '\"Hair dryer\"', 'Iron', '\"Laptop friendly workspace\"', '\"Self check-in\"', '\"Front desk/doorperson\"', '\"Private entrance\"', '\"Hot water\"', '\"Bed linens\"', '\"Luggage dropoff allowed\"}']\n",
      "1        25\n",
      "3        14\n",
      "4        16\n",
      "5        30\n",
      "6        30\n",
      "         ..\n",
      "34323    15\n",
      "34324    18\n",
      "34325    12\n",
      "34327    25\n",
      "34328    17\n",
      "Name: n_amenities, Length: 581983, dtype: int64\n"
     ]
    }
   ],
   "source": [
    "print(len(base_airbnb['amenities'].iloc[0].split(',')))\n",
    "\n",
    "print(base_airbnb['amenities'].iloc[0].split(','))\n",
    "\n",
    "base_airbnb['n_amenities'] = base_airbnb['amenities'].str.split(',').apply(len)\n",
    "\n",
    "print(base_airbnb['n_amenities'])"
   ]
  },
  {
   "cell_type": "code",
   "execution_count": 53,
   "metadata": {},
   "outputs": [
    {
     "data": {
      "text/plain": [
       "(581983, 20)"
      ]
     },
     "execution_count": 53,
     "metadata": {},
     "output_type": "execute_result"
    }
   ],
   "source": [
    "base_airbnb = base_airbnb.drop('amenities', axis=1)\n",
    "base_airbnb.shape"
   ]
  },
  {
   "cell_type": "code",
   "execution_count": 54,
   "metadata": {},
   "outputs": [
    {
     "data": {
      "image/png": "[encoded data removed]",
      "text/plain": [
       "<Figure size 864x288 with 2 Axes>"
      ]
     },
     "metadata": {
      "needs_background": "light"
     },
     "output_type": "display_data"
    },
    {
     "data": {
      "image/png": "[encoded data removed]",
      "text/plain": [
       "<Figure size 1080x360 with 1 Axes>"
      ]
     },
     "metadata": {
      "needs_background": "light"
     },
     "output_type": "display_data"
    }
   ],
   "source": [
    "diagrama_caixa(base_airbnb['n_amenities'])\n",
    "grafico_barra(base_airbnb['n_amenities'])"
   ]
  },
  {
   "cell_type": "code",
   "execution_count": 55,
   "metadata": {},
   "outputs": [
    {
     "name": "stdout",
     "output_type": "stream",
     "text": [
      "24343 linhas removidas\n"
     ]
    }
   ],
   "source": [
    "base_airbnb, linhas_removidas = excluir_outliers(base_airbnb, 'n_amenities')\n",
    "print('{} linhas removidas'.format(linhas_removidas))"
   ]
  },
  {
   "cell_type": "code",
   "execution_count": 56,
   "metadata": {},
   "outputs": [
    {
     "data": {
      "image/png": "[encoded data removed]",
      "text/plain": [
       "<Figure size 864x288 with 2 Axes>"
      ]
     },
     "metadata": {
      "needs_background": "light"
     },
     "output_type": "display_data"
    },
    {
     "data": {
      "image/png": "[encoded data removed]",
      "text/plain": [
       "<Figure size 1080x360 with 1 Axes>"
      ]
     },
     "metadata": {
      "needs_background": "light"
     },
     "output_type": "display_data"
    }
   ],
   "source": [
    "diagrama_caixa(base_airbnb['n_amenities'])\n",
    "grafico_barra(base_airbnb['n_amenities'])"
   ]
  },
  {
   "cell_type": "markdown",
   "metadata": {},
   "source": [
    "### Visualização de Mapa das Propriedades"
   ]
  },
  {
   "cell_type": "code",
   "execution_count": 57,
   "metadata": {},
   "outputs": [
    {
     "data": {
      "text/plain": [
       "True"
      ]
     },
     "execution_count": 57,
     "metadata": {},
     "output_type": "execute_result"
    }
   ],
   "source": [
    "import plotly.express as px\n",
    "import webbrowser\n",
    "import os\n",
    "\n",
    "amostra = base_airbnb.sample(n=50000)\n",
    "centro_mapa = {'lat':amostra.latitude.mean(), 'lon':amostra.longitude.mean()}\n",
    "\n",
    "# Cria o gráfico\n",
    "figura = px.density_mapbox(amostra, lat='latitude', lon='longitude', z='price', radius=2.5,\n",
    "                          center=centro_mapa, zoom=10,\n",
    "                          mapbox_style='carto-darkmatter')\n",
    "\n",
    "# Salva o código HTML do gráfico em um arquivo local\n",
    "with open('map.html', 'w', encoding='utf-8') as f:\n",
    "    f.write(figura.to_html())\n",
    "\n",
    "# Abre o arquivo HTML em uma nova aba\n",
    "webbrowser.open('file://' + os.path.realpath('map.html'))"
   ]
  },
  {
   "cell_type": "markdown",
   "metadata": {},
   "source": [
    "### Encoding\n",
    "Precisamor Ajustar as features para facilitar o trabalho do modelo futuro (features de categoria, true e false, etc.)\n",
    "\n",
    "- Features de Valores True ou False, vamos substituir True por 1 e False por 0.\n",
    "- Features de Categoria (features em que os valores da coluna são textos) vamos utilizar o método de encoding de variáveis dummies"
   ]
  },
  {
   "cell_type": "code",
   "execution_count": 58,
   "metadata": {},
   "outputs": [
    {
     "name": "stdout",
     "output_type": "stream",
     "text": [
      "host_is_superhost                         1\n",
      "host_listings_count                       2\n",
      "latitude                           -22.9659\n",
      "longitude                           -43.179\n",
      "property_type                   Condominium\n",
      "room_type                   Entire home/apt\n",
      "accommodates                              5\n",
      "bathrooms                                 1\n",
      "bedrooms                                  2\n",
      "beds                                      2\n",
      "bed_type                           Real Bed\n",
      "price                                   270\n",
      "extra_people                             51\n",
      "minimum_nights                            4\n",
      "instant_bookable                          1\n",
      "is_business_travel_ready                  0\n",
      "cancellation_policy                  strict\n",
      "ano                                    2018\n",
      "mes                                       4\n",
      "n_amenities                              25\n",
      "Name: 1, dtype: object\n"
     ]
    }
   ],
   "source": [
    "colunas_tf = ['host_is_superhost', 'instant_bookable', 'is_business_travel_ready']\n",
    "base_airbnb_cod = base_airbnb.copy()\n",
    "for coluna in colunas_tf:\n",
    "    base_airbnb_cod.loc[ base_airbnb_cod[coluna] == 't', coluna] = 1\n",
    "    base_airbnb_cod.loc[ base_airbnb_cod[coluna] == 'f', coluna] = 0\n",
    "print(base_airbnb_cod.iloc[0])"
   ]
  },
  {
   "cell_type": "code",
   "execution_count": 59,
   "metadata": {},
   "outputs": [
    {
     "data": {
      "text/html": [
       "<div>\n",
       "<style scoped>\n",
       "    .dataframe tbody tr th:only-of-type {\n",
       "        vertical-align: middle;\n",
       "    }\n",
       "\n",
       "    .dataframe tbody tr th {\n",
       "        vertical-align: top;\n",
       "    }\n",
       "\n",
       "    .dataframe thead th {\n",
       "        text-align: right;\n",
       "    }\n",
       "</style>\n",
       "<table border=\"1\" class=\"dataframe\">\n",
       "  <thead>\n",
       "    <tr style=\"text-align: right;\">\n",
       "      <th></th>\n",
       "      <th>host_is_superhost</th>\n",
       "      <th>host_listings_count</th>\n",
       "      <th>latitude</th>\n",
       "      <th>longitude</th>\n",
       "      <th>accommodates</th>\n",
       "      <th>bathrooms</th>\n",
       "      <th>bedrooms</th>\n",
       "      <th>beds</th>\n",
       "      <th>price</th>\n",
       "      <th>extra_people</th>\n",
       "      <th>...</th>\n",
       "      <th>room_type_Entire home/apt</th>\n",
       "      <th>room_type_Hotel room</th>\n",
       "      <th>room_type_Private room</th>\n",
       "      <th>room_type_Shared room</th>\n",
       "      <th>bed_type_Outros</th>\n",
       "      <th>bed_type_Real Bed</th>\n",
       "      <th>cancellation_policy_flexible</th>\n",
       "      <th>cancellation_policy_moderate</th>\n",
       "      <th>cancellation_policy_strict</th>\n",
       "      <th>cancellation_policy_strict_14_with_grace_period</th>\n",
       "    </tr>\n",
       "  </thead>\n",
       "  <tbody>\n",
       "    <tr>\n",
       "      <td>1</td>\n",
       "      <td>1</td>\n",
       "      <td>2.0</td>\n",
       "      <td>-22.965919</td>\n",
       "      <td>-43.178962</td>\n",
       "      <td>5</td>\n",
       "      <td>1.0</td>\n",
       "      <td>2.0</td>\n",
       "      <td>2.0</td>\n",
       "      <td>270.0</td>\n",
       "      <td>51.0</td>\n",
       "      <td>...</td>\n",
       "      <td>1</td>\n",
       "      <td>0</td>\n",
       "      <td>0</td>\n",
       "      <td>0</td>\n",
       "      <td>0</td>\n",
       "      <td>1</td>\n",
       "      <td>0</td>\n",
       "      <td>0</td>\n",
       "      <td>1</td>\n",
       "      <td>0</td>\n",
       "    </tr>\n",
       "    <tr>\n",
       "      <td>3</td>\n",
       "      <td>0</td>\n",
       "      <td>3.0</td>\n",
       "      <td>-22.977117</td>\n",
       "      <td>-43.190454</td>\n",
       "      <td>3</td>\n",
       "      <td>1.0</td>\n",
       "      <td>1.0</td>\n",
       "      <td>2.0</td>\n",
       "      <td>161.0</td>\n",
       "      <td>45.0</td>\n",
       "      <td>...</td>\n",
       "      <td>1</td>\n",
       "      <td>0</td>\n",
       "      <td>0</td>\n",
       "      <td>0</td>\n",
       "      <td>0</td>\n",
       "      <td>1</td>\n",
       "      <td>0</td>\n",
       "      <td>0</td>\n",
       "      <td>1</td>\n",
       "      <td>0</td>\n",
       "    </tr>\n",
       "    <tr>\n",
       "      <td>4</td>\n",
       "      <td>1</td>\n",
       "      <td>1.0</td>\n",
       "      <td>-22.983024</td>\n",
       "      <td>-43.214270</td>\n",
       "      <td>3</td>\n",
       "      <td>1.0</td>\n",
       "      <td>1.0</td>\n",
       "      <td>2.0</td>\n",
       "      <td>222.0</td>\n",
       "      <td>68.0</td>\n",
       "      <td>...</td>\n",
       "      <td>1</td>\n",
       "      <td>0</td>\n",
       "      <td>0</td>\n",
       "      <td>0</td>\n",
       "      <td>0</td>\n",
       "      <td>1</td>\n",
       "      <td>0</td>\n",
       "      <td>0</td>\n",
       "      <td>1</td>\n",
       "      <td>0</td>\n",
       "    </tr>\n",
       "    <tr>\n",
       "      <td>5</td>\n",
       "      <td>1</td>\n",
       "      <td>1.0</td>\n",
       "      <td>-22.988165</td>\n",
       "      <td>-43.193588</td>\n",
       "      <td>3</td>\n",
       "      <td>1.5</td>\n",
       "      <td>1.0</td>\n",
       "      <td>2.0</td>\n",
       "      <td>308.0</td>\n",
       "      <td>86.0</td>\n",
       "      <td>...</td>\n",
       "      <td>1</td>\n",
       "      <td>0</td>\n",
       "      <td>0</td>\n",
       "      <td>0</td>\n",
       "      <td>0</td>\n",
       "      <td>1</td>\n",
       "      <td>0</td>\n",
       "      <td>0</td>\n",
       "      <td>1</td>\n",
       "      <td>0</td>\n",
       "    </tr>\n",
       "    <tr>\n",
       "      <td>6</td>\n",
       "      <td>1</td>\n",
       "      <td>1.0</td>\n",
       "      <td>-22.981269</td>\n",
       "      <td>-43.190457</td>\n",
       "      <td>2</td>\n",
       "      <td>1.0</td>\n",
       "      <td>1.0</td>\n",
       "      <td>2.0</td>\n",
       "      <td>219.0</td>\n",
       "      <td>80.0</td>\n",
       "      <td>...</td>\n",
       "      <td>1</td>\n",
       "      <td>0</td>\n",
       "      <td>0</td>\n",
       "      <td>0</td>\n",
       "      <td>0</td>\n",
       "      <td>1</td>\n",
       "      <td>0</td>\n",
       "      <td>0</td>\n",
       "      <td>1</td>\n",
       "      <td>0</td>\n",
       "    </tr>\n",
       "  </tbody>\n",
       "</table>\n",
       "<p>5 rows × 36 columns</p>\n",
       "</div>"
      ],
      "text/plain": [
       "   host_is_superhost  host_listings_count   latitude  longitude  accommodates  \\\n",
       "1                  1                  2.0 -22.965919 -43.178962             5   \n",
       "3                  0                  3.0 -22.977117 -43.190454             3   \n",
       "4                  1                  1.0 -22.983024 -43.214270             3   \n",
       "5                  1                  1.0 -22.988165 -43.193588             3   \n",
       "6                  1                  1.0 -22.981269 -43.190457             2   \n",
       "\n",
       "   bathrooms  bedrooms  beds  price  extra_people  ...  \\\n",
       "1        1.0       2.0   2.0  270.0          51.0  ...   \n",
       "3        1.0       1.0   2.0  161.0          45.0  ...   \n",
       "4        1.0       1.0   2.0  222.0          68.0  ...   \n",
       "5        1.5       1.0   2.0  308.0          86.0  ...   \n",
       "6        1.0       1.0   2.0  219.0          80.0  ...   \n",
       "\n",
       "   room_type_Entire home/apt  room_type_Hotel room  room_type_Private room  \\\n",
       "1                          1                     0                       0   \n",
       "3                          1                     0                       0   \n",
       "4                          1                     0                       0   \n",
       "5                          1                     0                       0   \n",
       "6                          1                     0                       0   \n",
       "\n",
       "   room_type_Shared room  bed_type_Outros  bed_type_Real Bed  \\\n",
       "1                      0                0                  1   \n",
       "3                      0                0                  1   \n",
       "4                      0                0                  1   \n",
       "5                      0                0                  1   \n",
       "6                      0                0                  1   \n",
       "\n",
       "   cancellation_policy_flexible  cancellation_policy_moderate  \\\n",
       "1                             0                             0   \n",
       "3                             0                             0   \n",
       "4                             0                             0   \n",
       "5                             0                             0   \n",
       "6                             0                             0   \n",
       "\n",
       "   cancellation_policy_strict  cancellation_policy_strict_14_with_grace_period  \n",
       "1                           1                                                0  \n",
       "3                           1                                                0  \n",
       "4                           1                                                0  \n",
       "5                           1                                                0  \n",
       "6                           1                                                0  \n",
       "\n",
       "[5 rows x 36 columns]"
      ]
     },
     "metadata": {},
     "output_type": "display_data"
    }
   ],
   "source": [
    "colunas_categorias = ['property_type', 'room_type', 'bed_type', 'cancellation_policy']\n",
    "#transformado os dummies com o pandas, keys (data=dataframe, columns=colunas que vão ser criadas os dummies)\n",
    "\n",
    "base_airbnb_cod = pd.get_dummies(data=base_airbnb_cod, columns=colunas_categorias)\n",
    "\n",
    "display(base_airbnb_cod.head())"
   ]
  },
  {
   "cell_type": "markdown",
   "metadata": {},
   "source": [
    "### Modelo de Previsão"
   ]
  },
  {
   "cell_type": "code",
   "execution_count": 60,
   "metadata": {},
   "outputs": [],
   "source": [
    "def avaliar_modelo(nome_modelo, y_teste, previsao):\n",
    "    ###para avaliar o modelo(a IA) vou precisar de 2 infos\n",
    "    #os valores reais(y_teste) e os valores da previsão(previsao) que a IA fez em cima dos valores reais(y_teste)\n",
    "    \n",
    "    # avaliar a previsão\n",
    "    r2 = r2_score(y_teste, previsao)\n",
    "    RSME = np.sqrt(mean_squared_error(y_teste, previsao))\n",
    "    \n",
    "    return f'Modelo {nome_modelo}:\\nR²:{r2:.2%}\\nRSME:{RSME:.2f}'"
   ]
  },
  {
   "cell_type": "markdown",
   "metadata": {},
   "source": [
    "- Escolha dos Modelos a Serem Testados\n",
    "    1. RandomForest\n",
    "    2. LinearRegression\n",
    "    3. Extra Tree\n",
    "    \n",
    "Esses são alguns dos modelos que existem para fazer previsão de valores numéricos (o que chamamos de regressão). Estamos querendo calcular o preço, portanto, queremos prever um valor numérico.\n",
    "\n",
    "Assim, escolhemos esses 3 modelos. Existem dezenas, ou até centenas de modelos diferentes. A medida com que você for aprendendo mais e mais sobre Ciência de Dados, você vai aprender sempre novos modelos e entendendo aos poucos qual o melhor modelo para usar em cada situação.\n",
    "\n",
    "Mas na dúvida, esses 3 modelos que usamos aqui são bem bons para muitos problemas de Regressão."
   ]
  },
  {
   "cell_type": "code",
   "execution_count": 61,
   "metadata": {},
   "outputs": [],
   "source": [
    "modelo_rf = RandomForestRegressor()\n",
    "modelo_lr = LinearRegression()\n",
    "modelo_et = ExtraTreesRegressor()\n",
    "\n",
    "modelos = { \n",
    "    \n",
    "            'RandomForest': modelo_rf,\n",
    "            'LinearRegression': modelo_lr,\n",
    "            'ExtraTrees': modelo_et,  \n",
    "    \n",
    "            }\n",
    "\n",
    "y = base_airbnb_cod['price']\n",
    "X = base_airbnb_cod.drop('price', axis=1)\n",
    "\n"
   ]
  },
  {
   "cell_type": "markdown",
   "metadata": {},
   "source": [
    "- Separa os dados em treino e teste + Treino do Modelo\n",
    "\n",
    "Essa etapa é crucial. As Inteligências Artificiais aprendendo com o que chamamos de treino.\n",
    "\n",
    "Basicamente o que a gente faz é: a gente separa as informações em treino e teste, ex: 10% da base de dados vai servir para teste e 90% para treino (normalmente treino é maior mesmo)\n",
    "\n",
    "Aí, damos para o modelo os dados de treino, ele vai olhar aqueles dados e aprender a prever os preços.\n",
    "\n",
    "\n",
    "Depois que ele aprende, você faz um teste com ele, com os dados de teste, para ver se ela está bom ou não. Analisando os dados de teste você descobre o melhor modelo"
   ]
  },
  {
   "cell_type": "code",
   "execution_count": 62,
   "metadata": {},
   "outputs": [
    {
     "name": "stderr",
     "output_type": "stream",
     "text": [
      "C:\\ProgramData\\Anaconda3\\lib\\site-packages\\sklearn\\ensemble\\forest.py:245: FutureWarning:\n",
      "\n",
      "The default value of n_estimators will change from 10 in version 0.20 to 100 in 0.22.\n",
      "\n",
      "C:\\ProgramData\\Anaconda3\\lib\\site-packages\\sklearn\\utils\\fixes.py:230: DeprecationWarning:\n",
      "\n",
      "distutils Version classes are deprecated. Use packaging.version instead.\n",
      "\n",
      "C:\\ProgramData\\Anaconda3\\lib\\site-packages\\sklearn\\utils\\fixes.py:230: DeprecationWarning:\n",
      "\n",
      "distutils Version classes are deprecated. Use packaging.version instead.\n",
      "\n"
     ]
    },
    {
     "name": "stdout",
     "output_type": "stream",
     "text": [
      "Modelo RandomForest:\n",
      "R²:96.78%\n",
      "RSME:47.56\n",
      "Modelo LinearRegression:\n",
      "R²:32.70%\n",
      "RSME:217.54\n"
     ]
    },
    {
     "name": "stderr",
     "output_type": "stream",
     "text": [
      "C:\\ProgramData\\Anaconda3\\lib\\site-packages\\sklearn\\ensemble\\forest.py:245: FutureWarning:\n",
      "\n",
      "The default value of n_estimators will change from 10 in version 0.20 to 100 in 0.22.\n",
      "\n",
      "C:\\ProgramData\\Anaconda3\\lib\\site-packages\\sklearn\\utils\\fixes.py:230: DeprecationWarning:\n",
      "\n",
      "distutils Version classes are deprecated. Use packaging.version instead.\n",
      "\n",
      "C:\\ProgramData\\Anaconda3\\lib\\site-packages\\sklearn\\utils\\fixes.py:230: DeprecationWarning:\n",
      "\n",
      "distutils Version classes are deprecated. Use packaging.version instead.\n",
      "\n"
     ]
    },
    {
     "name": "stdout",
     "output_type": "stream",
     "text": [
      "Modelo ExtraTrees:\n",
      "R²:97.25%\n",
      "RSME:43.99\n"
     ]
    }
   ],
   "source": [
    "x_train, x_test, y_train, y_test = train_test_split(X, y, random_state=10)\n",
    "\n",
    "for nome_modelo, modelo in modelos.items():\n",
    "    #treinar\n",
    "    modelo.fit(x_train, y_train)\n",
    "    #testar\n",
    "    previsao = modelo.predict(x_test)\n",
    "    print(avaliar_modelo(nome_modelo, y_test, previsao))\n",
    "    "
   ]
  },
  {
   "cell_type": "code",
   "execution_count": 63,
   "metadata": {},
   "outputs": [
    {
     "name": "stderr",
     "output_type": "stream",
     "text": [
      "C:\\ProgramData\\Anaconda3\\lib\\site-packages\\sklearn\\utils\\fixes.py:230: DeprecationWarning:\n",
      "\n",
      "distutils Version classes are deprecated. Use packaging.version instead.\n",
      "\n",
      "C:\\ProgramData\\Anaconda3\\lib\\site-packages\\sklearn\\utils\\fixes.py:230: DeprecationWarning:\n",
      "\n",
      "distutils Version classes are deprecated. Use packaging.version instead.\n",
      "\n"
     ]
    },
    {
     "name": "stdout",
     "output_type": "stream",
     "text": [
      "Modelo RandomForest:\n",
      "R²:96.77%\n",
      "RSME:47.67\n",
      "Modelo LinearRegression:\n",
      "R²:32.70%\n",
      "RSME:217.54\n"
     ]
    },
    {
     "name": "stderr",
     "output_type": "stream",
     "text": [
      "C:\\ProgramData\\Anaconda3\\lib\\site-packages\\sklearn\\utils\\fixes.py:230: DeprecationWarning:\n",
      "\n",
      "distutils Version classes are deprecated. Use packaging.version instead.\n",
      "\n",
      "C:\\ProgramData\\Anaconda3\\lib\\site-packages\\sklearn\\utils\\fixes.py:230: DeprecationWarning:\n",
      "\n",
      "distutils Version classes are deprecated. Use packaging.version instead.\n",
      "\n"
     ]
    },
    {
     "name": "stdout",
     "output_type": "stream",
     "text": [
      "Modelo ExtraTrees:\n",
      "R²:97.20%\n",
      "RSME:44.36\n"
     ]
    }
   ],
   "source": [
    "from sklearn.preprocessing import StandardScaler\n",
    "\n",
    "for nome_modelo, modelo in modelos.items():\n",
    "    #Criar um objeto StandardScaler\n",
    "    scaler = StandardScaler()\n",
    "\n",
    "    #Normalizar os dados de treinamento e teste\n",
    "    x_train_scaled = scaler.fit_transform(x_train)\n",
    "    x_test_scaled = scaler.transform(x_test)\n",
    "\n",
    "    #Treinar o modelo usando os dados normalizados\n",
    "    modelo.fit(x_train_scaled, y_train)\n",
    "\n",
    "    #Realizar predições nos dados de teste normalizados\n",
    "    previsao = modelo.predict(x_test_scaled)\n",
    "\n",
    "    #Avaliar o modelo\n",
    "    print(avaliar_modelo(nome_modelo, y_test, previsao))"
   ]
  },
  {
   "cell_type": "markdown",
   "metadata": {},
   "source": [
    "### Análise do Melhor Modelo"
   ]
  },
  {
   "cell_type": "code",
   "execution_count": 64,
   "metadata": {},
   "outputs": [
    {
     "name": "stdout",
     "output_type": "stream",
     "text": [
      "Modelo RandomForest:\n",
      "R²:-32.76%\n",
      "RSME:305.55\n",
      "Modelo LinearRegression:\n",
      "R²:-119450320857471303844626432.00%\n",
      "RSME:289819647077038.19\n"
     ]
    },
    {
     "name": "stderr",
     "output_type": "stream",
     "text": [
      "C:\\ProgramData\\Anaconda3\\lib\\site-packages\\sklearn\\utils\\fixes.py:230: DeprecationWarning:\n",
      "\n",
      "distutils Version classes are deprecated. Use packaging.version instead.\n",
      "\n",
      "C:\\ProgramData\\Anaconda3\\lib\\site-packages\\sklearn\\utils\\fixes.py:230: DeprecationWarning:\n",
      "\n",
      "distutils Version classes are deprecated. Use packaging.version instead.\n",
      "\n"
     ]
    },
    {
     "name": "stdout",
     "output_type": "stream",
     "text": [
      "Modelo ExtraTrees:\n",
      "R²:-61.65%\n",
      "RSME:337.15\n"
     ]
    }
   ],
   "source": [
    "for nome_modelo, modelo in modelos.items():\n",
    "    #testar\n",
    "    previsao = modelo.predict(x_test)\n",
    "    print(avaliar_modelo(nome_modelo, y_test, previsao))"
   ]
  },
  {
   "cell_type": "markdown",
   "metadata": {},
   "source": [
    "- Modelo Escolhido como Melhor Modelo: ExtraTressRegressor\n",
    "\n",
    "    Esse foi o modelo com maior valor de R² e ao mesmo tempo o menor valor de RSME. Como não tivemos uma grande diferença de velocidade de treino e de previsão desse modelo com o modelo de RandomForest (que teve resultados próximos de R² e RSME), vamos escolher o Modelo ExtraTrees.\n",
    "    \n",
    "    O modelo de regressão linear não obteve um resultado satisfatório, com valores de R² e RSME muito piores do que os outros 2 modelos.\n",
    "    \n",
    "- Resultados das Métricas de Avaliaçõ no Modelo Vencedor:<br>\n",
    "Modelo ExtraTrees:<br>\n",
    "R²:97.25%%<br>\n",
    "RSME:43.99"
   ]
  },
  {
   "cell_type": "markdown",
   "metadata": {},
   "source": [
    "### Ajustes e Melhorias no Melhor Modelo"
   ]
  },
  {
   "cell_type": "code",
   "execution_count": 65,
   "metadata": {},
   "outputs": [
    {
     "name": "stderr",
     "output_type": "stream",
     "text": [
      "C:\\ProgramData\\Anaconda3\\lib\\site-packages\\sklearn\\utils\\fixes.py:230: DeprecationWarning:\n",
      "\n",
      "distutils Version classes are deprecated. Use packaging.version instead.\n",
      "\n"
     ]
    },
    {
     "data": {
      "text/html": [
       "<div>\n",
       "<style scoped>\n",
       "    .dataframe tbody tr th:only-of-type {\n",
       "        vertical-align: middle;\n",
       "    }\n",
       "\n",
       "    .dataframe tbody tr th {\n",
       "        vertical-align: top;\n",
       "    }\n",
       "\n",
       "    .dataframe thead th {\n",
       "        text-align: right;\n",
       "    }\n",
       "</style>\n",
       "<table border=\"1\" class=\"dataframe\">\n",
       "  <thead>\n",
       "    <tr style=\"text-align: right;\">\n",
       "      <th></th>\n",
       "      <th>0</th>\n",
       "    </tr>\n",
       "  </thead>\n",
       "  <tbody>\n",
       "    <tr>\n",
       "      <td>latitude</td>\n",
       "      <td>0.102897</td>\n",
       "    </tr>\n",
       "    <tr>\n",
       "      <td>longitude</td>\n",
       "      <td>0.100976</td>\n",
       "    </tr>\n",
       "    <tr>\n",
       "      <td>n_amenities</td>\n",
       "      <td>0.092172</td>\n",
       "    </tr>\n",
       "    <tr>\n",
       "      <td>bedrooms</td>\n",
       "      <td>0.090829</td>\n",
       "    </tr>\n",
       "    <tr>\n",
       "      <td>bathrooms</td>\n",
       "      <td>0.085947</td>\n",
       "    </tr>\n",
       "    <tr>\n",
       "      <td>extra_people</td>\n",
       "      <td>0.084064</td>\n",
       "    </tr>\n",
       "    <tr>\n",
       "      <td>room_type_Entire home/apt</td>\n",
       "      <td>0.076013</td>\n",
       "    </tr>\n",
       "    <tr>\n",
       "      <td>accommodates</td>\n",
       "      <td>0.071945</td>\n",
       "    </tr>\n",
       "    <tr>\n",
       "      <td>minimum_nights</td>\n",
       "      <td>0.064691</td>\n",
       "    </tr>\n",
       "    <tr>\n",
       "      <td>beds</td>\n",
       "      <td>0.052334</td>\n",
       "    </tr>\n",
       "    <tr>\n",
       "      <td>host_listings_count</td>\n",
       "      <td>0.040215</td>\n",
       "    </tr>\n",
       "    <tr>\n",
       "      <td>instant_bookable</td>\n",
       "      <td>0.021660</td>\n",
       "    </tr>\n",
       "    <tr>\n",
       "      <td>cancellation_policy_flexible</td>\n",
       "      <td>0.019154</td>\n",
       "    </tr>\n",
       "    <tr>\n",
       "      <td>host_is_superhost</td>\n",
       "      <td>0.013313</td>\n",
       "    </tr>\n",
       "    <tr>\n",
       "      <td>property_type_Apartment</td>\n",
       "      <td>0.012983</td>\n",
       "    </tr>\n",
       "    <tr>\n",
       "      <td>cancellation_policy_moderate</td>\n",
       "      <td>0.012334</td>\n",
       "    </tr>\n",
       "    <tr>\n",
       "      <td>ano</td>\n",
       "      <td>0.011236</td>\n",
       "    </tr>\n",
       "    <tr>\n",
       "      <td>property_type_House</td>\n",
       "      <td>0.007605</td>\n",
       "    </tr>\n",
       "    <tr>\n",
       "      <td>cancellation_policy_strict_14_with_grace_period</td>\n",
       "      <td>0.007154</td>\n",
       "    </tr>\n",
       "    <tr>\n",
       "      <td>property_type_Condominium</td>\n",
       "      <td>0.005451</td>\n",
       "    </tr>\n",
       "    <tr>\n",
       "      <td>mes</td>\n",
       "      <td>0.004698</td>\n",
       "    </tr>\n",
       "    <tr>\n",
       "      <td>room_type_Private room</td>\n",
       "      <td>0.003474</td>\n",
       "    </tr>\n",
       "    <tr>\n",
       "      <td>bed_type_Outros</td>\n",
       "      <td>0.002743</td>\n",
       "    </tr>\n",
       "    <tr>\n",
       "      <td>bed_type_Real Bed</td>\n",
       "      <td>0.002666</td>\n",
       "    </tr>\n",
       "    <tr>\n",
       "      <td>property_type_Outros</td>\n",
       "      <td>0.002448</td>\n",
       "    </tr>\n",
       "    <tr>\n",
       "      <td>property_type_Serviced apartment</td>\n",
       "      <td>0.002289</td>\n",
       "    </tr>\n",
       "    <tr>\n",
       "      <td>property_type_Loft</td>\n",
       "      <td>0.002184</td>\n",
       "    </tr>\n",
       "    <tr>\n",
       "      <td>room_type_Shared room</td>\n",
       "      <td>0.001846</td>\n",
       "    </tr>\n",
       "    <tr>\n",
       "      <td>property_type_Bed and breakfast</td>\n",
       "      <td>0.001290</td>\n",
       "    </tr>\n",
       "    <tr>\n",
       "      <td>property_type_Guesthouse</td>\n",
       "      <td>0.000877</td>\n",
       "    </tr>\n",
       "    <tr>\n",
       "      <td>property_type_Hostel</td>\n",
       "      <td>0.000762</td>\n",
       "    </tr>\n",
       "    <tr>\n",
       "      <td>cancellation_policy_strict</td>\n",
       "      <td>0.000707</td>\n",
       "    </tr>\n",
       "    <tr>\n",
       "      <td>property_type_Guest suite</td>\n",
       "      <td>0.000705</td>\n",
       "    </tr>\n",
       "    <tr>\n",
       "      <td>room_type_Hotel room</td>\n",
       "      <td>0.000336</td>\n",
       "    </tr>\n",
       "    <tr>\n",
       "      <td>is_business_travel_ready</td>\n",
       "      <td>0.000000</td>\n",
       "    </tr>\n",
       "  </tbody>\n",
       "</table>\n",
       "</div>"
      ],
      "text/plain": [
       "                                                        0\n",
       "latitude                                         0.102897\n",
       "longitude                                        0.100976\n",
       "n_amenities                                      0.092172\n",
       "bedrooms                                         0.090829\n",
       "bathrooms                                        0.085947\n",
       "extra_people                                     0.084064\n",
       "room_type_Entire home/apt                        0.076013\n",
       "accommodates                                     0.071945\n",
       "minimum_nights                                   0.064691\n",
       "beds                                             0.052334\n",
       "host_listings_count                              0.040215\n",
       "instant_bookable                                 0.021660\n",
       "cancellation_policy_flexible                     0.019154\n",
       "host_is_superhost                                0.013313\n",
       "property_type_Apartment                          0.012983\n",
       "cancellation_policy_moderate                     0.012334\n",
       "ano                                              0.011236\n",
       "property_type_House                              0.007605\n",
       "cancellation_policy_strict_14_with_grace_period  0.007154\n",
       "property_type_Condominium                        0.005451\n",
       "mes                                              0.004698\n",
       "room_type_Private room                           0.003474\n",
       "bed_type_Outros                                  0.002743\n",
       "bed_type_Real Bed                                0.002666\n",
       "property_type_Outros                             0.002448\n",
       "property_type_Serviced apartment                 0.002289\n",
       "property_type_Loft                               0.002184\n",
       "room_type_Shared room                            0.001846\n",
       "property_type_Bed and breakfast                  0.001290\n",
       "property_type_Guesthouse                         0.000877\n",
       "property_type_Hostel                             0.000762\n",
       "cancellation_policy_strict                       0.000707\n",
       "property_type_Guest suite                        0.000705\n",
       "room_type_Hotel room                             0.000336\n",
       "is_business_travel_ready                         0.000000"
      ]
     },
     "metadata": {},
     "output_type": "display_data"
    },
    {
     "data": {
      "image/png": "[encoded data removed]",
      "text/plain": [
       "<Figure size 1080x360 with 1 Axes>"
      ]
     },
     "metadata": {
      "needs_background": "light"
     },
     "output_type": "display_data"
    }
   ],
   "source": [
    "#print(modelo_et.feature_importances_)\n",
    "#print(X_train.columns)\n",
    "importancia_features = pd.DataFrame(modelo_et.feature_importances_, x_train.columns)\n",
    "importancia_features = importancia_features.sort_values(by=0, ascending=False)\n",
    "display(importancia_features)\n",
    "plt.figure(figsize=(15, 5))\n",
    "ax = sns.barplot(x=importancia_features.index, y=importancia_features[0])\n",
    "ax.tick_params(axis='x', rotation=90)"
   ]
  },
  {
   "cell_type": "markdown",
   "metadata": {},
   "source": [
    "### Ajustes Finais no Modelo\n",
    "\n",
    "- is_business_travel ready não parece ter muito impacto no nosso modelo. Por isso, para chegar em um modelo mais simples, vamos excluir essa feature e testar o modelo sem ela."
   ]
  },
  {
   "cell_type": "code",
   "execution_count": 66,
   "metadata": {},
   "outputs": [
    {
     "name": "stderr",
     "output_type": "stream",
     "text": [
      "C:\\ProgramData\\Anaconda3\\lib\\site-packages\\sklearn\\utils\\fixes.py:230: DeprecationWarning:\n",
      "\n",
      "distutils Version classes are deprecated. Use packaging.version instead.\n",
      "\n",
      "C:\\ProgramData\\Anaconda3\\lib\\site-packages\\sklearn\\utils\\fixes.py:230: DeprecationWarning:\n",
      "\n",
      "distutils Version classes are deprecated. Use packaging.version instead.\n",
      "\n"
     ]
    },
    {
     "name": "stdout",
     "output_type": "stream",
     "text": [
      "Modelo ExtraTrees:\n",
      "R²:97.18%\n",
      "RSME:44.55\n"
     ]
    }
   ],
   "source": [
    "base_airbnb_cod = base_airbnb_cod.drop('is_business_travel_ready', axis=1)\n",
    "\n",
    "y = base_airbnb_cod['price']\n",
    "X = base_airbnb_cod.drop('price', axis=1)\n",
    "\n",
    "x_train, x_test, y_train, y_test = train_test_split(X, y, random_state=10)\n",
    "\n",
    "modelo_et.fit(x_train, y_train)\n",
    "previsao = modelo_et.predict(x_test)\n",
    "print(avaliar_modelo('ExtraTrees', y_test, previsao))"
   ]
  },
  {
   "cell_type": "code",
   "execution_count": 67,
   "metadata": {},
   "outputs": [
    {
     "name": "stdout",
     "output_type": "stream",
     "text": [
      "Index(['host_is_superhost', 'host_listings_count', 'latitude', 'longitude',\n",
      "       'accommodates', 'bathrooms', 'bedrooms', 'beds', 'price',\n",
      "       'extra_people', 'minimum_nights', 'instant_bookable', 'ano', 'mes',\n",
      "       'n_amenities', 'property_type_Apartment',\n",
      "       'property_type_Bed and breakfast', 'property_type_Condominium',\n",
      "       'property_type_Guest suite', 'property_type_Guesthouse',\n",
      "       'property_type_Hostel', 'property_type_House', 'property_type_Loft',\n",
      "       'property_type_Outros', 'property_type_Serviced apartment',\n",
      "       'room_type_Entire home/apt', 'room_type_Hotel room',\n",
      "       'room_type_Private room', 'room_type_Shared room',\n",
      "       'cancellation_policy_flexible', 'cancellation_policy_moderate',\n",
      "       'cancellation_policy_strict',\n",
      "       'cancellation_policy_strict_14_with_grace_period'],\n",
      "      dtype='object')\n"
     ]
    },
    {
     "name": "stderr",
     "output_type": "stream",
     "text": [
      "C:\\ProgramData\\Anaconda3\\lib\\site-packages\\sklearn\\utils\\fixes.py:230: DeprecationWarning:\n",
      "\n",
      "distutils Version classes are deprecated. Use packaging.version instead.\n",
      "\n",
      "C:\\ProgramData\\Anaconda3\\lib\\site-packages\\sklearn\\utils\\fixes.py:230: DeprecationWarning:\n",
      "\n",
      "distutils Version classes are deprecated. Use packaging.version instead.\n",
      "\n"
     ]
    },
    {
     "name": "stdout",
     "output_type": "stream",
     "text": [
      "Modelo ExtraTrees:\n",
      "R²:97.15%\n",
      "RSME:44.80\n"
     ]
    }
   ],
   "source": [
    "base_teste = base_airbnb_cod.copy()\n",
    "for coluna in base_teste:\n",
    "    if 'bed_type' in coluna:    \n",
    "        base_teste = base_teste.drop(coluna, axis=1)\n",
    "print(base_teste.columns)\n",
    "y = base_teste['price']\n",
    "X = base_teste.drop('price', axis=1)\n",
    "\n",
    "X_train, X_test, y_train, y_test = train_test_split(X, y, random_state=10)\n",
    "\n",
    "modelo_et.fit(X_train, y_train)\n",
    "previsao = modelo_et.predict(X_test)\n",
    "print(avaliar_modelo('ExtraTrees', y_test, previsao))"
   ]
  },
  {
   "cell_type": "code",
   "execution_count": 68,
   "metadata": {},
   "outputs": [
    {
     "name": "stdout",
     "output_type": "stream",
     "text": [
      "[101.  998.5 249.1 ... 129.8 317.6 120. ]\n"
     ]
    }
   ],
   "source": [
    "print(previsao)"
   ]
  },
  {
   "cell_type": "markdown",
   "metadata": {},
   "source": [
    "# Deploy do Projeto\n"
   ]
  },
  {
   "cell_type": "code",
   "execution_count": 69,
   "metadata": {},
   "outputs": [],
   "source": [
    "X['price'] = y\n",
    "X.to_csv('dados.csv')"
   ]
  },
  {
   "cell_type": "code",
   "execution_count": 72,
   "metadata": {},
   "outputs": [
    {
     "data": {
      "text/plain": [
       "['modelo.joblib']"
      ]
     },
     "execution_count": 72,
     "metadata": {},
     "output_type": "execute_result"
    }
   ],
   "source": [
    "\n",
    "import joblib\n",
    "joblib.dump(modelo_et, 'modelo.joblib')"
   ]
  },
  {
   "cell_type": "code",
   "execution_count": null,
   "metadata": {},
   "outputs": [],
   "source": []
  }
 ],
 "metadata": {
  "kernelspec": {
   "display_name": "Python 3",
   "language": "python",
   "name": "python3"
  },
  "language_info": {
   "codemirror_mode": {
    "name": "ipython",
    "version": 3
   },
   "file_extension": ".py",
   "mimetype": "text/x-python",
   "name": "python",
   "nbconvert_exporter": "python",
   "pygments_lexer": "ipython3",
   "version": "3.7.4"
  }
 },
 "nbformat": 4,
 "nbformat_minor": 4
}
